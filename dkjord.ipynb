{
 "cells": [
  {
   "cell_type": "markdown",
   "source": [
    "# Eksempel på hvordan man kan søge og analysere data i GC2\n",
    "\n",
    "Denne Notebook viser hvordan man vha. SQL kan søge i en GC2 database. Eksemplet anvender gc2.io databasen med offentlige tilgængelige data. Eksemplet er en simple søgning på en samlet ejendom vha. adresse og viser hvordan ejendommen kan anvendes til at søge videre i DKJord dataene for at se, om der er registreret forurening på ejendommen."
   ],
   "metadata": {
    "collapsed": false
   }
  },
  {
   "cell_type": "markdown",
   "source": [
    "Først hentes gc2-python-client Python Package Index."
   ],
   "metadata": {
    "collapsed": false
   }
  },
  {
   "cell_type": "markdown",
   "source": [
    "Importer moduler. Udover GC2 vil vi anvende Pandas og Folium, som hhv. bruges til datatabeller og kort."
   ],
   "metadata": {
    "collapsed": false
   }
  },
  {
   "cell_type": "code",
   "execution_count": 1,
   "outputs": [],
   "source": [
    "import gc2\n",
    "import folium\n",
    "import pandas"
   ],
   "metadata": {
    "collapsed": false,
    "ExecuteTime": {
     "end_time": "2023-05-09T11:02:04.321762087Z",
     "start_time": "2023-05-09T11:02:04.003638570Z"
    }
   }
  },
  {
   "cell_type": "markdown",
   "source": [
    "Vi sætter en forbindelse op til dk.gc2.dk med en test-bruger."
   ],
   "metadata": {
    "collapsed": false
   }
  },
  {
   "cell_type": "code",
   "execution_count": 2,
   "outputs": [],
   "source": [
    "dk = gc2.Gc2(\"https://dk.gc2.io\")\n",
    "dk.set_authentication(user=\"dk_test\", pw=\"Pwd1234!\", db=\"dk\")"
   ],
   "metadata": {
    "collapsed": false,
    "ExecuteTime": {
     "end_time": "2023-05-09T11:02:04.700680416Z",
     "start_time": "2023-05-09T11:02:04.325582876Z"
    }
   }
  },
  {
   "cell_type": "markdown",
   "source": [
    "Vi gør to SQL objekter klar, så vi kan hente ejendoms-data og dkjord-data."
   ],
   "metadata": {
    "collapsed": false
   }
  },
  {
   "cell_type": "code",
   "execution_count": 3,
   "outputs": [],
   "source": [
    "ejendom = gc2.Sql(dk)\n",
    "dkjord = gc2.Sql(dk)"
   ],
   "metadata": {
    "collapsed": false,
    "ExecuteTime": {
     "end_time": "2023-05-09T11:02:04.705610318Z",
     "start_time": "2023-05-09T11:02:04.703835401Z"
    }
   }
  },
  {
   "cell_type": "markdown",
   "source": [
    "Så kan vi lave en forespørgsel på en samlet ejendom ud fra en adresse."
   ],
   "metadata": {
    "collapsed": false
   }
  },
  {
   "cell_type": "code",
   "execution_count": 4,
   "outputs": [
    {
     "data": {
      "text/plain": "<gc2.sql.Sql at 0x7f6affaf4f40>"
     },
     "execution_count": 4,
     "metadata": {},
     "output_type": "execute_result"
    }
   ],
   "source": [
    "husnr = \"34\"\n",
    "vejkode = \"0295\"\n",
    "postnr = \"5853\"\n",
    "\n",
    "ejendom.run(f\"\"\"\n",
    "SELECT sfe_ejendomsnummer,ST_Multi(ST_Union(the_geom)), ST_astext(ST_Multi(ST_Union(the_geom))) as wkt FROM matrikel.jordstykke\n",
    "    WHERE sfe_ejendomsnummer = (SELECT sfe_ejendomsnummer FROM matrikel.jordstykke\n",
    "    WHERE (the_geom && (SELECT ST_transform(the_geom, 25832) FROM dar.adgangsadresser WHERE husnr='{husnr}' AND vejkode='{vejkode}' AND postnr='{postnr}')) AND ST_Intersects(the_geom, (SELECT ST_transform(the_geom, 25832) FROM dar.adgangsadresser WHERE husnr='{husnr}' AND vejkode='{vejkode}' AND postnr='{postnr}'))) group by sfe_ejendomsnummer\n",
    "\"\"\")\n",
    "pandas.DataFrame(ejendom.data, columns=ejendom.columns)\n",
    "ejendom"
   ],
   "metadata": {
    "collapsed": false,
    "ExecuteTime": {
     "end_time": "2023-05-09T11:02:04.950747312Z",
     "start_time": "2023-05-09T11:02:04.707306835Z"
    }
   }
  },
  {
   "cell_type": "markdown",
   "source": [
    "Derefter kan vi bruge ejendommens geometri til at finde evt. forurenet jord."
   ],
   "metadata": {
    "collapsed": false
   }
  },
  {
   "cell_type": "code",
   "execution_count": 5,
   "outputs": [
    {
     "data": {
      "text/plain": "     gid               gml_id     id   senesteinddateringsdato lokalitetsnr  \\\n0  26193  View_V1Flader.26193  26193  2023-04-11T12:41:36.117Z    495-04015   \n\n  lokalitetetsforureningsstatus        lokalitetetsadresse        regionsnavn  \\\n0                   V1 kortlagt  Glorupvej 34 , 5853 Ørbæk  Region Syddanmark   \n\n   lokalitetsejerlavkode lokalitetsmatrikler kortlaegningsdato  \\\n0                 421052                  1a              None   \n\n                             jordforureningsattester  \\\n0  https://jord-report.miljoeportal.dk/?elav=4210...   \n\n                 sidst_hentet  \n0  2023-05-09 00:23:02.505687  ",
      "text/html": "<div>\n<style scoped>\n    .dataframe tbody tr th:only-of-type {\n        vertical-align: middle;\n    }\n\n    .dataframe tbody tr th {\n        vertical-align: top;\n    }\n\n    .dataframe thead th {\n        text-align: right;\n    }\n</style>\n<table border=\"1\" class=\"dataframe\">\n  <thead>\n    <tr style=\"text-align: right;\">\n      <th></th>\n      <th>gid</th>\n      <th>gml_id</th>\n      <th>id</th>\n      <th>senesteinddateringsdato</th>\n      <th>lokalitetsnr</th>\n      <th>lokalitetetsforureningsstatus</th>\n      <th>lokalitetetsadresse</th>\n      <th>regionsnavn</th>\n      <th>lokalitetsejerlavkode</th>\n      <th>lokalitetsmatrikler</th>\n      <th>kortlaegningsdato</th>\n      <th>jordforureningsattester</th>\n      <th>sidst_hentet</th>\n    </tr>\n  </thead>\n  <tbody>\n    <tr>\n      <th>0</th>\n      <td>26193</td>\n      <td>View_V1Flader.26193</td>\n      <td>26193</td>\n      <td>2023-04-11T12:41:36.117Z</td>\n      <td>495-04015</td>\n      <td>V1 kortlagt</td>\n      <td>Glorupvej 34 , 5853 Ørbæk</td>\n      <td>Region Syddanmark</td>\n      <td>421052</td>\n      <td>1a</td>\n      <td>None</td>\n      <td>https://jord-report.miljoeportal.dk/?elav=4210...</td>\n      <td>2023-05-09 00:23:02.505687</td>\n    </tr>\n  </tbody>\n</table>\n</div>"
     },
     "execution_count": 5,
     "metadata": {},
     "output_type": "execute_result"
    }
   ],
   "source": [
    "dkjord.run(f\"\"\"\n",
    "SELECT * from dkjord.dkjord_v1 where ST_intersects(the_geom, ST_geomfromtext('{ejendom.data[0][1]}',25832))\n",
    "\"\"\")\n",
    "pandas.DataFrame(dkjord.data, columns=dkjord.columns)"
   ],
   "metadata": {
    "collapsed": false,
    "ExecuteTime": {
     "end_time": "2023-05-09T11:02:05.323552636Z",
     "start_time": "2023-05-09T11:02:04.953610080Z"
    }
   }
  },
  {
   "cell_type": "markdown",
   "source": [
    "Vi sætter tilsidste et kort op, der viser hhv. ejendommen og forureningen."
   ],
   "metadata": {
    "collapsed": false
   }
  },
  {
   "cell_type": "code",
   "execution_count": 6,
   "outputs": [
    {
     "data": {
      "text/plain": "<folium.folium.Map at 0x7f6affaf4d90>",
      "text/html": "<div style=\"width:100%;\"><div style=\"position:relative;width:100%;height:0;padding-bottom:60%;\"><span style=\"color:#565656\">Make this Notebook Trusted to load map: File -> Trust Notebook</span><iframe srcdoc=\"&lt;!DOCTYPE html&gt;\n&lt;head&gt;    \n    &lt;meta http-equiv=&quot;content-type&quot; content=&quot;text/html; charset=UTF-8&quot; /&gt;\n    \n        &lt;script&gt;\n            L_NO_TOUCH = false;\n            L_DISABLE_3D = false;\n        &lt;/script&gt;\n    \n    &lt;style&gt;html, body {width: 100%;height: 100%;margin: 0;padding: 0;}&lt;/style&gt;\n    &lt;style&gt;#map {position:absolute;top:0;bottom:0;right:0;left:0;}&lt;/style&gt;\n    &lt;script src=&quot;https://cdn.jsdelivr.net/npm/leaflet@1.6.0/dist/leaflet.js&quot;&gt;&lt;/script&gt;\n    &lt;script src=&quot;https://code.jquery.com/jquery-1.12.4.min.js&quot;&gt;&lt;/script&gt;\n    &lt;script src=&quot;https://maxcdn.bootstrapcdn.com/bootstrap/3.2.0/js/bootstrap.min.js&quot;&gt;&lt;/script&gt;\n    &lt;script src=&quot;https://cdnjs.cloudflare.com/ajax/libs/Leaflet.awesome-markers/2.0.2/leaflet.awesome-markers.js&quot;&gt;&lt;/script&gt;\n    &lt;link rel=&quot;stylesheet&quot; href=&quot;https://cdn.jsdelivr.net/npm/leaflet@1.6.0/dist/leaflet.css&quot;/&gt;\n    &lt;link rel=&quot;stylesheet&quot; href=&quot;https://maxcdn.bootstrapcdn.com/bootstrap/3.2.0/css/bootstrap.min.css&quot;/&gt;\n    &lt;link rel=&quot;stylesheet&quot; href=&quot;https://maxcdn.bootstrapcdn.com/bootstrap/3.2.0/css/bootstrap-theme.min.css&quot;/&gt;\n    &lt;link rel=&quot;stylesheet&quot; href=&quot;https://maxcdn.bootstrapcdn.com/font-awesome/4.6.3/css/font-awesome.min.css&quot;/&gt;\n    &lt;link rel=&quot;stylesheet&quot; href=&quot;https://cdnjs.cloudflare.com/ajax/libs/Leaflet.awesome-markers/2.0.2/leaflet.awesome-markers.css&quot;/&gt;\n    &lt;link rel=&quot;stylesheet&quot; href=&quot;https://cdn.jsdelivr.net/gh/python-visualization/folium/folium/templates/leaflet.awesome.rotate.min.css&quot;/&gt;\n    \n            &lt;meta name=&quot;viewport&quot; content=&quot;width=device-width,\n                initial-scale=1.0, maximum-scale=1.0, user-scalable=no&quot; /&gt;\n            &lt;style&gt;\n                #map_13f81ec89c988d9d9aefcb58c1e28507 {\n                    position: relative;\n                    width: 100.0%;\n                    height: 100.0%;\n                    left: 0.0%;\n                    top: 0.0%;\n                }\n            &lt;/style&gt;\n        \n&lt;/head&gt;\n&lt;body&gt;    \n    \n            &lt;div class=&quot;folium-map&quot; id=&quot;map_13f81ec89c988d9d9aefcb58c1e28507&quot; &gt;&lt;/div&gt;\n        \n&lt;/body&gt;\n&lt;script&gt;    \n    \n            var map_13f81ec89c988d9d9aefcb58c1e28507 = L.map(\n                &quot;map_13f81ec89c988d9d9aefcb58c1e28507&quot;,\n                {\n                    center: [56.1759, 10.6016],\n                    crs: L.CRS.EPSG3857,\n                    zoom: 7,\n                    zoomControl: true,\n                    preferCanvas: false,\n                }\n            );\n\n            \n\n        \n    \n            var tile_layer_b26f6f175185a6bdd9e43b63c83a5217 = L.tileLayer(\n                &quot;https://cartodb-basemaps-{s}.global.ssl.fastly.net/light_all/{z}/{x}/{y}.png&quot;,\n                {&quot;attribution&quot;: &quot;\\u0026copy; \\u003ca href=\\&quot;http://www.openstreetmap.org/copyright\\&quot;\\u003eOpenStreetMap\\u003c/a\\u003e contributors \\u0026copy; \\u003ca href=\\&quot;http://cartodb.com/attributions\\&quot;\\u003eCartoDB\\u003c/a\\u003e, CartoDB \\u003ca href =\\&quot;http://cartodb.com/attributions\\&quot;\\u003eattributions\\u003c/a\\u003e&quot;, &quot;detectRetina&quot;: false, &quot;maxNativeZoom&quot;: 18, &quot;maxZoom&quot;: 18, &quot;minZoom&quot;: 0, &quot;noWrap&quot;: false, &quot;opacity&quot;: 1, &quot;subdomains&quot;: &quot;abc&quot;, &quot;tms&quot;: false}\n            ).addTo(map_13f81ec89c988d9d9aefcb58c1e28507);\n        \n    \n        function geo_json_c8c5fe2c0ab8904b39bbc3ccfcb477c7_styler(feature) {\n            switch(feature.properties.sfe_ejendomsnummer) {\n                default:\n                    return {&quot;color&quot;: &quot;#228B22&quot;, &quot;fillColor&quot;: &quot;#228B22&quot;};\n            }\n        }\n\n        function geo_json_c8c5fe2c0ab8904b39bbc3ccfcb477c7_onEachFeature(feature, layer) {\n            layer.on({\n            });\n        };\n        var geo_json_c8c5fe2c0ab8904b39bbc3ccfcb477c7 = L.geoJson(null, {\n                onEachFeature: geo_json_c8c5fe2c0ab8904b39bbc3ccfcb477c7_onEachFeature,\n            \n                style: geo_json_c8c5fe2c0ab8904b39bbc3ccfcb477c7_styler,\n        });\n\n        function geo_json_c8c5fe2c0ab8904b39bbc3ccfcb477c7_add (data) {\n            geo_json_c8c5fe2c0ab8904b39bbc3ccfcb477c7\n                .addData(data)\n                .addTo(map_13f81ec89c988d9d9aefcb58c1e28507);\n        }\n            geo_json_c8c5fe2c0ab8904b39bbc3ccfcb477c7_add({&quot;_execution_time&quot;: 0.064, &quot;auth_check&quot;: {&quot;auth_level&quot;: &quot;Write&quot;, &quot;checked_relations&quot;: [&quot;matrikel.jordstykke&quot;, &quot;dar.adgangsadresser&quot;], &quot;privileges&quot;: null, &quot;session&quot;: null, &quot;success&quot;: true}, &quot;features&quot;: [{&quot;geometry&quot;: {&quot;coordinates&quot;: [[[[10.7222635563077, 55.2129016520935], [10.7222794358366, 55.2128937345599], [10.7225175151064, 55.2127552542842], [10.7227425971815, 55.2127125483775], [10.7229603197449, 55.2126559524371], [10.7231558795418, 55.2125870057823], [10.7233961619434, 55.2124854313442], [10.7235868162093, 55.2123986681245], [10.7239542964087, 55.2121532922225], [10.7244770947614, 55.2118725733724], [10.7247972838937, 55.2117463729553], [10.725014263527, 55.2116491691523], [10.7259175837846, 55.2112534499368], [10.7261900303753, 55.2111534369275], [10.7263935495218, 55.2110086793513], [10.726752931237, 55.2107159821703], [10.7261195069116, 55.2090947985545], [10.725348102883, 55.2070315434916], [10.7252693343512, 55.2067990268054], [10.7249436673743, 55.2067554599302], [10.7247572257103, 55.2062694803826], [10.724625320545, 55.205899414541], [10.7244744505909, 55.205422143771], [10.7243022241061, 55.2049258964844], [10.7240195286245, 55.2049540783479], [10.7222821153781, 55.2051425759424], [10.7197331384407, 55.2054163811822], [10.7193603204403, 55.2049555623612], [10.7192942129701, 55.204710703414], [10.7192025895912, 55.2044863721182], [10.7173608364698, 55.204748476093], [10.7158351959884, 55.2049621293087], [10.7127571293233, 55.2053881994128], [10.7115089115434, 55.2055673353934], [10.7092410004943, 55.2058772850417], [10.70895811078, 55.2059413037213], [10.7088864486919, 55.2060433184222], [10.709163932118, 55.2067777359946], [10.7094550182297, 55.20753776541], [10.7095428874947, 55.2077240222092], [10.709685137594, 55.2079198343326], [10.7099696209727, 55.2082629437701], [10.7100143147239, 55.2084069081714], [10.7099476606051, 55.2085231253932], [10.7097869467126, 55.2086050077227], [10.7095566690306, 55.2086230739548], [10.7086625160894, 55.2086257620789], [10.7086278209611, 55.2086552867419], [10.7089257040784, 55.209288471255], [10.7090133521119, 55.2093437206587], [10.709080463886, 55.2094621882614], [10.7091859976148, 55.2097400320716], [10.7093258027415, 55.2098584964523], [10.7093844557896, 55.2099449521089], [10.7094724584755, 55.210454316778], [10.7098596289914, 55.2112594098321], [10.7103255026149, 55.2122258112712], [10.7103805689004, 55.2123197584036], [10.7106345948872, 55.2129079601672], [10.7105905427797, 55.2130920667858], [10.7100485979675, 55.2143005395081], [10.7099398377277, 55.2145358649797], [10.7096963529769, 55.2150888185139], [10.7095315659473, 55.215444435571], [10.7090221841349, 55.2165401028057], [10.708669366033, 55.2173159206671], [10.7086511806897, 55.2173622093304], [10.7086620461042, 55.2173842832031], [10.7088073233527, 55.2174368921192], [10.7107737226182, 55.2178230871905], [10.711879720489, 55.2180450835688], [10.7146745780431, 55.2185964521202], [10.7151696842554, 55.2186969013018], [10.7151989604156, 55.2187028438242], [10.7160744173673, 55.2188741278088], [10.7178730007317, 55.2192246337799], [10.7202716895021, 55.2196989751975], [10.7212087716074, 55.2180062066669], [10.7219272465353, 55.2175162863282], [10.7214189155698, 55.21730548679], [10.7212741480371, 55.2170327454417], [10.7256007319959, 55.2160381817949], [10.7262268917844, 55.2157457838106], [10.7261299176589, 55.215689141664], [10.7261554202606, 55.2156783732233], [10.7257901814101, 55.2153955810061], [10.7257770597225, 55.2154011232176], [10.7254193347227, 55.2152736897734], [10.7254408121211, 55.2152592665714], [10.7252448614843, 55.2151638944684], [10.7252238574663, 55.2151779963773], [10.7251140563214, 55.2151191082275], [10.7249520966471, 55.2148715815095], [10.7249970029206, 55.2148620488144], [10.7247847425035, 55.2145545314877], [10.7247572715064, 55.214534320527], [10.7247360958736, 55.2145437243068], [10.7244893978463, 55.2144637182236], [10.7242730425645, 55.2144172465717], [10.7241050323545, 55.2143131642498], [10.7241311511531, 55.2143017494041], [10.7239176836815, 55.2141420654419], [10.7238976117903, 55.2140730103899], [10.7239633972744, 55.2140148750539], [10.7238961311933, 55.2139064116512], [10.7238785543965, 55.2139099764577], [10.7237110050304, 55.2138648452364], [10.7235478956844, 55.2138435129185], [10.7233275040597, 55.2138264768573], [10.722828578852, 55.21364545196], [10.7227440217659, 55.2135201558757], [10.7227789364688, 55.2135122300706], [10.7227186089529, 55.2134252920144], [10.7224997952637, 55.2133679411369], [10.7223861110177, 55.2132924515414], [10.7221436681858, 55.2132084082182], [10.7221113629183, 55.213126430791], [10.7222635563077, 55.2129016520935]]], [[[10.687382676802, 55.2033664243722], [10.6861556104328, 55.2029904177524], [10.6850443950674, 55.2026396439339], [10.6846717327494, 55.2024763579415], [10.6844181411539, 55.2021690647962], [10.6841308620697, 55.2015379053706], [10.6839343965721, 55.2010626194097], [10.6833497735004, 55.2004318695397], [10.6831066032347, 55.2003077294241], [10.6817884709465, 55.1996655141529], [10.6811250229751, 55.1992946620833], [10.6810044037141, 55.1992001587804], [10.6789212827433, 55.1994139871122], [10.6774377496621, 55.1990536653275], [10.6770257795006, 55.1989472753671], [10.6761053060908, 55.1987408420614], [10.6758025032129, 55.1981598025198], [10.6767389260591, 55.1964331559818], [10.6757962738513, 55.1963702319363], [10.6753370494531, 55.1963395760781], [10.6750374581045, 55.1963182838667], [10.6747610069651, 55.1963193664887], [10.6743985001814, 55.1963394971476], [10.6742945810667, 55.1965941008101], [10.6741575860953, 55.1969336945234], [10.6741589911648, 55.1969855329022], [10.6741736636882, 55.1970345288548], [10.6744993014182, 55.1975374632892], [10.674797761519, 55.1980077501676], [10.6752820449727, 55.1987691402115], [10.6755820192732, 55.1992391168141], [10.6756222715264, 55.1993026174211], [10.6760826156857, 55.2000286440547], [10.6764959824229, 55.2006814917554], [10.6766441291434, 55.2009136774321], [10.6770589798105, 55.2015681116224], [10.6774902322158, 55.2022430529137], [10.6776859438509, 55.2026056922155], [10.6778395547735, 55.2027840023595], [10.6786055222996, 55.2039742682833], [10.6815841844557, 55.2032422524279], [10.6817009917799, 55.2032135716029], [10.6851860301761, 55.2048676047344], [10.6876452996699, 55.2060234427671], [10.688720493661, 55.2065302834487], [10.6901788867015, 55.2083347913627], [10.6900267983763, 55.209486872989], [10.6898600718239, 55.2131598993611], [10.6897820880127, 55.2132866604557], [10.6900189798121, 55.2133837775047], [10.691366121813, 55.2140566909261], [10.6944924238728, 55.212260977325], [10.6966608399812, 55.2110137586562], [10.6972229785004, 55.2106919782489], [10.6994516081399, 55.2094199818028], [10.7021855030905, 55.2078675652858], [10.7025854862796, 55.2076864117558], [10.7029054663928, 55.2077676404133], [10.7030585107214, 55.2079648821355], [10.7037728025765, 55.2089941664335], [10.7039243613728, 55.2091019753056], [10.7041986261029, 55.2091381198974], [10.7051446342058, 55.2090132376875], [10.7075677923786, 55.2086862373366], [10.7081197902337, 55.2086086392798], [10.7085802631547, 55.2085357091408], [10.7096063500011, 55.2085457141788], [10.7097408393207, 55.2085296107702], [10.7098103280803, 55.2085025998637], [10.7098718241296, 55.2084269976705], [10.7097949103194, 55.2082404706914], [10.7096048421497, 55.2080085700587], [10.7094040319054, 55.207788170911], [10.7093041313701, 55.2075481665782], [10.7089465147769, 55.2066507782733], [10.7089417395667, 55.2065954461881], [10.7086916529263, 55.2059589586568], [10.7087741066037, 55.2058744263681], [10.7093035675474, 55.2057908021763], [10.7115355930912, 55.205480815661], [10.7127438776136, 55.2053193074675], [10.7158075382118, 55.2048949322537], [10.7173350306011, 55.2046743418824], [10.7191884226968, 55.2044209269212], [10.7191615350817, 55.2040264029774], [10.7188208257509, 55.2034543227181], [10.7185152317019, 55.2031539879284], [10.7184066967019, 55.203038481645], [10.718078827162, 55.2026739561645], [10.7171207385842, 55.2017682949701], [10.7169895202021, 55.2016381785474], [10.7166054598236, 55.2012596108642], [10.716336308879, 55.2009954448801], [10.7153714059403, 55.2000639012289], [10.7141600314968, 55.1995347710013], [10.7129208943848, 55.198960281368], [10.708873517819, 55.2004915452438], [10.7070552071764, 55.2004951975058], [10.706446317756, 55.2004385053948], [10.7061480124647, 55.19967275485], [10.7022069912635, 55.199529399784], [10.7009366322065, 55.1990156663451], [10.6996402196078, 55.1986722636125], [10.6978442611595, 55.1983233283372], [10.6976656592131, 55.1977550814833], [10.6926380655838, 55.199018720174], [10.6925583877989, 55.1990387806346], [10.6915285501017, 55.202593860137], [10.6875819407844, 55.2031684862831], [10.687382676802, 55.2033664243722]]], [[[10.7084964193224, 55.2086649735253], [10.7084449792671, 55.2086426141571], [10.7051703092021, 55.2090821993169], [10.7050550400079, 55.2091038618598], [10.7041965687901, 55.2092231254165], [10.7041621899584, 55.2092406460524], [10.7040056122206, 55.2092427347839], [10.7037829621769, 55.2091893138024], [10.7036880113506, 55.2091137790597], [10.7034068356641, 55.2086880140815], [10.7034041142637, 55.2086507899326], [10.7029912010482, 55.2080566316247], [10.7028572256148, 55.2078896900642], [10.7027052817854, 55.2078146536832], [10.7026235398806, 55.2078043267492], [10.7025054488995, 55.2078312570157], [10.7022879086512, 55.2079319425085], [10.6995595389824, 55.2094860458611], [10.6973425002462, 55.2107548901384], [10.6967770294329, 55.2110759265516], [10.6945980853551, 55.2123202557745], [10.6915007069328, 55.2140993126524], [10.6919117946546, 55.2143410453428], [10.6922220963304, 55.2144571999565], [10.6925621868886, 55.2146174104506], [10.6927902867532, 55.2147918196001], [10.6926308692397, 55.2148760245189], [10.6925063198498, 55.2149940146431], [10.6931496911089, 55.215157618455], [10.6932131384847, 55.2151669744842], [10.6937719851076, 55.2152493601634], [10.6941322318037, 55.2153242560064], [10.6950334500037, 55.215511635426], [10.6962647212918, 55.2158220051606], [10.696454022982, 55.2158846036819], [10.6966990499323, 55.2160051689495], [10.6977556109438, 55.2164222804235], [10.6985829082422, 55.2166240180835], [10.6998710657389, 55.2168089123202], [10.7026664866043, 55.2171502034591], [10.7044208996845, 55.2171752503533], [10.7048741540307, 55.2172280989618], [10.7059629030701, 55.2172098036775], [10.7063136348433, 55.2172358779742], [10.7069979781428, 55.2173066964693], [10.7084229576214, 55.2174727075624], [10.7084659626437, 55.2174777134479], [10.7084973430431, 55.2174110091617], [10.7089150397465, 55.2165229189022], [10.7094189482887, 55.2154285870836], [10.7095849274962, 55.2150692236647], [10.7098393578922, 55.2145141576566], [10.709941033188, 55.2142888178458], [10.7104744602116, 55.2131044976445], [10.710493153795, 55.2129056117306], [10.7104397404409, 55.2127366227981], [10.7101962782629, 55.2122425514204], [10.7097411941925, 55.211284680198], [10.7092806736683, 55.2103435642876], [10.7090737974079, 55.2100493363872], [10.7091005173412, 55.209941884874], [10.708884139503, 55.2095751168491], [10.7087478273087, 55.209292338446], [10.7087811607589, 55.2092739413859], [10.7084964193224, 55.2086649735253]]]], &quot;type&quot;: &quot;MultiPolygon&quot;}, &quot;properties&quot;: {&quot;sfe_ejendomsnummer&quot;: &quot;9594379&quot;, &quot;wkt&quot;: &quot;MULTIPOLYGON(((609580.797 6119836.096,609581.829 6119835.24,609597.356 6119820.206,609611.793 6119815.808,609625.8 6119809.853,609638.431 6119802.489,609653.997 6119791.565,609666.365 6119782.211,609690.419 6119755.487,609724.452 6119725.075,609745.17 6119711.537,609759.242 6119701.063,609817.802 6119658.455,609835.411 6119647.756,609848.758 6119631.97,609872.429 6119599.969,609836.593 6119418.59,609793.191 6119187.807,609788.819 6119161.812,609768.217 6119156.452,609757.691 6119102.086,609750.316 6119060.703,609742.029 6119007.362,609732.435 6118951.876,609714.369 6118954.567,609603.296 6118972.809,609440.349 6118999.272,609417.89 6118947.414,609414.355 6118920.066,609409.14 6118894.962,609291.226 6118921.238,609193.561 6118942.621,608996.533 6118985.214,608916.618 6119003.196,608771.463 6119034.144,608753.288 6119040.826,608748.45 6119052.065,608764.104 6119134.213,608780.553 6119219.232,608785.636 6119240.093,608794.153 6119262.102,608811.318 6119300.722,608813.769 6119316.81,608809.211 6119329.637,608798.762 6119338.497,608784.061 6119340.148,608727.162 6119339.053,608724.874 6119342.284,608742.101 6119413.2,608747.527 6119419.484,608751.474 6119432.77,608757.431 6119463.849,608766.003 6119477.248,608769.499 6119486.959,608773.709 6119543.771,608796.146 6119633.954,608823.149 6119742.208,608826.396 6119752.747,608840.952 6119818.59,608837.647 6119839.006,608799.872 6119972.622,608792.311 6119998.636,608775.313 6120059.781,608763.86 6120099.092,608728.468 6120220.208,608703.909 6120305.98,608702.626 6120311.102,608703.257 6120313.575,608712.355 6120319.655,608836.388 6120365.692,608906.136 6120392.119,609082.412 6120457.835,609113.631 6120469.786,609115.477 6120470.493,609170.696 6120490.921,609284.143 6120532.737,609435.42 6120589.276,609499.675 6120402.4,609546.724 6120349.017,609514.967 6120324.764,609506.507 6120294.19,609784.471 6120190.331,609825.109 6120158.783,609819.096 6120152.328,609820.748 6120151.17,609798.292 6120119.13,609797.442 6120119.726,609775.036 6120104.984,609776.442 6120103.413,609764.239 6120092.493,609762.864 6120094.029,609756.041 6120087.304,609746.419 6120059.508,609749.302 6120058.518,609736.645 6120023.968,609734.953 6120021.676,609733.58 6120022.689,609718.106 6120013.399,609704.47 6120007.888,609694.068 6119996.043,609695.761 6119994.814,609682.62 6119976.711,609681.533 6119968.996,609685.878 6119962.631,609681.897 6119950.457,609680.769 6119950.826,609670.234 6119945.541,609659.916 6119942.911,609645.942 6119940.669,609614.699 6119919.743,609609.664 6119905.669,609611.907 6119904.842,609608.308 6119895.074,609594.545 6119888.349,609587.52 6119879.771,609572.327 6119870.039,609570.497 6119860.867,609580.797 6119836.096)),((607387.358 6118720.905,607310.285 6118677.18,607240.515 6118636.442,607217.239 6118617.701,607201.927 6118583.12,607185.341 6118512.452,607174.115 6118459.267,607138.604 6118388.188,607123.462 6118374.002,607041.299 6118300.522,607000.071 6118258.241,606992.648 6118247.541,606859.502 6118268.14,606766.052 6118225.777,606740.118 6118213.309,606682.089 6118188.932,606664.371 6118123.819,606728.586 6117933.134,606668.758 6117924.691,606639.612 6117920.578,606620.601 6117917.751,606603.003 6117917.449,606579.877 6117919.135,606572.583 6117947.305,606562.957 6117984.881,606562.908 6117990.651,606563.711 6117996.125,606583.093 6118052.582,606600.832 6118105.365,606629.619 6118190.822,606647.454 6118243.573,606649.846 6118250.7,606677.202 6118332.186,606701.763 6118405.458,606710.57 6118431.519,606735.22 6118504.97,606760.858 6118580.728,606772.342 6118621.377,606781.64 6118641.452,606827.196 6118775.061,607018.704 6118698.178,607026.214 6118695.166,607243.539 6118884.556,607396.917 6119016.945,607463.967 6119074.995,607551.899 6119278.023,607539.116 6119405.976,607518.606 6119814.402,607513.303 6119828.386,607528.112 6119839.557,607612 6119916.507,607815.743 6119721.533,607957.075 6119586.114,607993.711 6119551.181,608138.952 6119413.104,608317.112 6119244.615,608343.054 6119225.08,608363.193 6119234.615,608372.395 6119256.799,608415.046 6119372.433,608424.396 6119384.664,608441.748 6119389.112,608502.278 6119376.688,608657.344 6119344.076,608692.677 6119336.302,608722.174 6119328.905,608787.433 6119331.618,608796.034 6119330.036,608800.529 6119327.139,608804.648 6119318.823,608800.263 6119297.949,608788.802 6119271.85,608776.626 6119247.014,608770.924 6119220.154,608750.616 6119119.748,608750.463 6119113.584,608736.285 6119042.375,608741.762 6119033.098,608775.68 6119024.619,608918.552 6118993.611,608995.878 6118977.528,609191.985 6118935.101,609289.787 6118912.949,609408.418 6118887.658,609407.789 6118843.719,609387.677 6118779.532,609369.054 6118745.636,609362.464 6118732.614,609342.599 6118691.541,609284.111 6118589.271,609276.117 6118574.588,609252.713 6118531.865,609236.308 6118502.051,609177.452 6118396.892,609101.807 6118336.123,609024.517 6118270.265,608762.761 6118434.324,608647.035 6118431.897,608608.44 6118424.641,608591.54 6118338.975,608341.12 6118316.897,608261.667 6118257.764,608180.092 6118217.544,608066.738 6118175.936,608056.91 6118112.433,607733.523 6118245.257,607728.398 6118247.366,607653.265 6118641.335,607400.571 6118699.188,607387.358 6118720.905)),((608716.487 6119343.157,608713.275 6119340.589,608503.724 6119384.401,608496.331 6119386.632,608441.386 6119398.567,608439.151 6119400.463,608429.183 6119400.452,608415.162 6119394.162,608409.326 6119385.61,608392.593 6119337.8,608392.521 6119333.654,608367.863 6119266.903,608359.792 6119248.12,608350.328 6119239.535,608345.155 6119238.259,608337.568 6119241.072,608323.453 6119251.937,608145.64 6119420.622,608001.145 6119558.366,607964.299 6119593.211,607822.305 6119728.292,607620.447 6119921.457,607645.947 6119948.988,607665.374 6119962.391,607686.577 6119980.742,607700.617 6120000.5,607690.248 6120009.623,607682.006 6120022.559,607722.493 6120041.756,607726.504 6120042.895,607761.833 6120052.925,607784.548 6120061.815,607841.373 6120084.057,607918.861 6120120.495,607930.734 6120127.753,607945.995 6120141.547,608012.078 6120189.593,608064.159 6120213.321,608145.602 6120235.89,608322.501 6120278.202,608434.036 6120283.715,608462.725 6120290.3,608532.033 6120289.958,608554.273 6120293.405,608597.613 6120302.35,608687.807 6120323.041,608690.529 6120323.665,608692.707 6120316.292,608721.699 6120218.129,608756.739 6120097.153,608768.278 6120057.427,608785.978 6119996.064,608793.061 6119971.15,608830.228 6119840.208,608831.96 6119818.108,608829.023 6119799.222,608814.882 6119743.869,608788.542 6119636.581,608761.809 6119531.149,608749.449 6119498.089,608751.442 6119486.175,608738.675 6119445.029,608730.773 6119413.353,608732.944 6119411.358,608716.487 6119343.157)))&quot;}, &quot;type&quot;: &quot;Feature&quot;}], &quot;forGrid&quot;: [{&quot;dataIndex&quot;: &quot;sfe_ejendomsnummer&quot;, &quot;header&quot;: &quot;sfe_ejendomsnummer&quot;, &quot;type&quot;: &quot;character varying&quot;, &quot;typeObj&quot;: null}, {&quot;dataIndex&quot;: &quot;st_multi&quot;, &quot;header&quot;: &quot;st_multi&quot;, &quot;type&quot;: &quot;geometry&quot;, &quot;typeObj&quot;: null}, {&quot;dataIndex&quot;: &quot;wkt&quot;, &quot;header&quot;: &quot;wkt&quot;, &quot;type&quot;: &quot;text&quot;, &quot;typeObj&quot;: null}], &quot;forStore&quot;: [{&quot;name&quot;: &quot;sfe_ejendomsnummer&quot;, &quot;type&quot;: &quot;character varying&quot;}, {&quot;name&quot;: &quot;st_multi&quot;, &quot;type&quot;: &quot;geometry&quot;}, {&quot;name&quot;: &quot;wkt&quot;, &quot;type&quot;: &quot;text&quot;}], &quot;peak_memory_usage&quot;: &quot;2315 KB&quot;, &quot;success&quot;: true, &quot;type&quot;: &quot;FeatureCollection&quot;});\n\n        \n    \n        function geo_json_148c8760a501ef87ccf48ff4736cee95_styler(feature) {\n            switch(feature.properties.gid) {\n                default:\n                    return {&quot;color&quot;: &quot;#FF0000&quot;};\n            }\n        }\n\n        function geo_json_148c8760a501ef87ccf48ff4736cee95_onEachFeature(feature, layer) {\n            layer.on({\n            });\n        };\n        var geo_json_148c8760a501ef87ccf48ff4736cee95 = L.geoJson(null, {\n                onEachFeature: geo_json_148c8760a501ef87ccf48ff4736cee95_onEachFeature,\n            \n                style: geo_json_148c8760a501ef87ccf48ff4736cee95_styler,\n        });\n\n        function geo_json_148c8760a501ef87ccf48ff4736cee95_add (data) {\n            geo_json_148c8760a501ef87ccf48ff4736cee95\n                .addData(data)\n                .addTo(map_13f81ec89c988d9d9aefcb58c1e28507);\n        }\n            geo_json_148c8760a501ef87ccf48ff4736cee95_add({&quot;_execution_time&quot;: 0.101, &quot;auth_check&quot;: {&quot;auth_level&quot;: &quot;Write&quot;, &quot;checked_relations&quot;: [&quot;dkjord.dkjord_v1&quot;], &quot;privileges&quot;: null, &quot;session&quot;: null, &quot;success&quot;: true}, &quot;features&quot;: [{&quot;geometry&quot;: {&quot;coordinates&quot;: [[[[10.7080645247621, 55.2025335537647], [10.709598762434, 55.2057498078593], [10.7093035675474, 55.2057908021763], [10.7087741066037, 55.2058744263681], [10.7086916529263, 55.2059589586568], [10.7089417395667, 55.2065954461881], [10.7089465147769, 55.2066507782733], [10.7093041313701, 55.2075481665782], [10.7094040319054, 55.207788170911], [10.7096048421497, 55.2080085700587], [10.7097949103194, 55.2082404706914], [10.7098718241296, 55.2084269976705], [10.7098103280803, 55.2085025998637], [10.7097408393207, 55.2085296107702], [10.7096063500011, 55.2085457141788], [10.7085802631547, 55.2085357091408], [10.7081197902337, 55.2086086392798], [10.7075677923786, 55.2086862373366], [10.7051446342058, 55.2090132376875], [10.7041986261029, 55.2091381198974], [10.7039243613728, 55.2091019753056], [10.7037728025765, 55.2089941664335], [10.7030585107214, 55.2079648821355], [10.7029054663928, 55.2077676404133], [10.7025854862796, 55.2076864117558], [10.7021855030905, 55.2078675652858], [10.6994516081399, 55.2094199818028], [10.6972229785004, 55.2106919782489], [10.6966608399812, 55.2110137586562], [10.6944924238728, 55.212260977325], [10.691366121813, 55.2140566909261], [10.6900189798121, 55.2133837775047], [10.689813156272, 55.213299396695], [10.7080645247621, 55.2025335537647]]]], &quot;type&quot;: &quot;MultiPolygon&quot;}, &quot;properties&quot;: {&quot;gid&quot;: 26193, &quot;gml_id&quot;: &quot;View_V1Flader.26193&quot;, &quot;id&quot;: 26193, &quot;jordforureningsattester&quot;: &quot;https://jord-report.miljoeportal.dk/?elav=421052\\u0026matrnr=1a&quot;, &quot;kortlaegningsdato&quot;: null, &quot;lokalitetetsadresse&quot;: &quot;Glorupvej 34 , 5853 \\u00d8rb\\u00e6k&quot;, &quot;lokalitetetsforureningsstatus&quot;: &quot;V1 kortlagt&quot;, &quot;lokalitetsejerlavkode&quot;: 421052, &quot;lokalitetsmatrikler&quot;: &quot;1a&quot;, &quot;lokalitetsnr&quot;: &quot;495-04015&quot;, &quot;regionsnavn&quot;: &quot;Region Syddanmark&quot;, &quot;senesteinddateringsdato&quot;: &quot;2023-04-11T12:41:36.117Z&quot;, &quot;sidst_hentet&quot;: &quot;2023-05-09 00:23:02.505687&quot;}, &quot;type&quot;: &quot;Feature&quot;}], &quot;forGrid&quot;: [{&quot;dataIndex&quot;: &quot;gid&quot;, &quot;header&quot;: &quot;gid&quot;, &quot;type&quot;: &quot;integer&quot;, &quot;typeObj&quot;: null}, {&quot;dataIndex&quot;: &quot;gml_id&quot;, &quot;header&quot;: &quot;gml_id&quot;, &quot;type&quot;: &quot;character varying&quot;, &quot;typeObj&quot;: null}, {&quot;dataIndex&quot;: &quot;id&quot;, &quot;header&quot;: &quot;id&quot;, &quot;type&quot;: &quot;integer&quot;, &quot;typeObj&quot;: null}, {&quot;dataIndex&quot;: &quot;senesteinddateringsdato&quot;, &quot;header&quot;: &quot;senesteinddateringsdato&quot;, &quot;type&quot;: &quot;character varying&quot;, &quot;typeObj&quot;: null}, {&quot;dataIndex&quot;: &quot;lokalitetsnr&quot;, &quot;header&quot;: &quot;lokalitetsnr&quot;, &quot;type&quot;: &quot;character varying&quot;, &quot;typeObj&quot;: null}, {&quot;dataIndex&quot;: &quot;lokalitetetsforureningsstatus&quot;, &quot;header&quot;: &quot;lokalitetetsforureningsstatus&quot;, &quot;type&quot;: &quot;character varying&quot;, &quot;typeObj&quot;: null}, {&quot;dataIndex&quot;: &quot;lokalitetetsadresse&quot;, &quot;header&quot;: &quot;lokalitetetsadresse&quot;, &quot;type&quot;: &quot;character varying&quot;, &quot;typeObj&quot;: null}, {&quot;dataIndex&quot;: &quot;regionsnavn&quot;, &quot;header&quot;: &quot;regionsnavn&quot;, &quot;type&quot;: &quot;character varying&quot;, &quot;typeObj&quot;: null}, {&quot;dataIndex&quot;: &quot;lokalitetsejerlavkode&quot;, &quot;header&quot;: &quot;lokalitetsejerlavkode&quot;, &quot;type&quot;: &quot;integer&quot;, &quot;typeObj&quot;: null}, {&quot;dataIndex&quot;: &quot;lokalitetsmatrikler&quot;, &quot;header&quot;: &quot;lokalitetsmatrikler&quot;, &quot;type&quot;: &quot;character varying&quot;, &quot;typeObj&quot;: null}, {&quot;dataIndex&quot;: &quot;kortlaegningsdato&quot;, &quot;header&quot;: &quot;kortlaegningsdato&quot;, &quot;type&quot;: &quot;character varying&quot;, &quot;typeObj&quot;: null}, {&quot;dataIndex&quot;: &quot;jordforureningsattester&quot;, &quot;header&quot;: &quot;jordforureningsattester&quot;, &quot;type&quot;: &quot;character varying&quot;, &quot;typeObj&quot;: null}, {&quot;dataIndex&quot;: &quot;the_geom&quot;, &quot;header&quot;: &quot;the_geom&quot;, &quot;type&quot;: &quot;geometry&quot;, &quot;typeObj&quot;: null}, {&quot;dataIndex&quot;: &quot;sidst_hentet&quot;, &quot;header&quot;: &quot;sidst_hentet&quot;, &quot;type&quot;: &quot;timestamp without time zone&quot;, &quot;typeObj&quot;: null}], &quot;forStore&quot;: [{&quot;name&quot;: &quot;gid&quot;, &quot;type&quot;: &quot;integer&quot;}, {&quot;name&quot;: &quot;gml_id&quot;, &quot;type&quot;: &quot;character varying&quot;}, {&quot;name&quot;: &quot;id&quot;, &quot;type&quot;: &quot;integer&quot;}, {&quot;name&quot;: &quot;senesteinddateringsdato&quot;, &quot;type&quot;: &quot;character varying&quot;}, {&quot;name&quot;: &quot;lokalitetsnr&quot;, &quot;type&quot;: &quot;character varying&quot;}, {&quot;name&quot;: &quot;lokalitetetsforureningsstatus&quot;, &quot;type&quot;: &quot;character varying&quot;}, {&quot;name&quot;: &quot;lokalitetetsadresse&quot;, &quot;type&quot;: &quot;character varying&quot;}, {&quot;name&quot;: &quot;regionsnavn&quot;, &quot;type&quot;: &quot;character varying&quot;}, {&quot;name&quot;: &quot;lokalitetsejerlavkode&quot;, &quot;type&quot;: &quot;integer&quot;}, {&quot;name&quot;: &quot;lokalitetsmatrikler&quot;, &quot;type&quot;: &quot;character varying&quot;}, {&quot;name&quot;: &quot;kortlaegningsdato&quot;, &quot;type&quot;: &quot;character varying&quot;}, {&quot;name&quot;: &quot;jordforureningsattester&quot;, &quot;type&quot;: &quot;character varying&quot;}, {&quot;name&quot;: &quot;the_geom&quot;, &quot;type&quot;: &quot;geometry&quot;}, {&quot;name&quot;: &quot;sidst_hentet&quot;, &quot;type&quot;: &quot;timestamp without time zone&quot;}], &quot;peak_memory_usage&quot;: &quot;2147 KB&quot;, &quot;success&quot;: true, &quot;type&quot;: &quot;FeatureCollection&quot;});\n\n        \n    \n            var layer_control_7c7cb650f01b64e4cf8ced5062f2d004 = {\n                base_layers : {\n                    &quot;cartodbpositron&quot; : tile_layer_b26f6f175185a6bdd9e43b63c83a5217,\n                },\n                overlays :  {\n                    &quot;ejendom&quot; : geo_json_c8c5fe2c0ab8904b39bbc3ccfcb477c7,\n                    &quot;dkjord&quot; : geo_json_148c8760a501ef87ccf48ff4736cee95,\n                },\n            };\n            L.control.layers(\n                layer_control_7c7cb650f01b64e4cf8ced5062f2d004.base_layers,\n                layer_control_7c7cb650f01b64e4cf8ced5062f2d004.overlays,\n                {&quot;autoZIndex&quot;: true, &quot;collapsed&quot;: true, &quot;position&quot;: &quot;topright&quot;}\n            ).addTo(map_13f81ec89c988d9d9aefcb58c1e28507);\n        \n    \n            map_13f81ec89c988d9d9aefcb58c1e28507.fitBounds(\n                [[55.1963182838667, 10.6741575860953], [55.2196989751975, 10.726752931237]],\n                {}\n            );\n        \n&lt;/script&gt;\" style=\"position:absolute;width:100%;height:100%;left:0;top:0;border:none !important;\" allowfullscreen webkitallowfullscreen mozallowfullscreen></iframe></div></div>"
     },
     "execution_count": 6,
     "metadata": {},
     "output_type": "execute_result"
    }
   ],
   "source": [
    "ejendomStyle = {'fillColor': '#228B22', 'color': '#228B22'}\n",
    "dkjordStyle = {'color': '#FF0000'}\n",
    "\n",
    "m = folium.Map(\n",
    "    location=[56.1759, 10.6016],\n",
    "    tiles=\"cartodbpositron\",\n",
    "    zoom_start=7,\n",
    ")\n",
    "ejendomLayer = folium.GeoJson(data=ejendom.geojson, name=\"ejendom\", style_function=lambda x:ejendomStyle).add_to(m)\n",
    "folium.GeoJson(data=dkjord.geojson, name=\"dkjord\", style_function=lambda x:dkjordStyle).add_to(m)\n",
    "folium.LayerControl().add_to(m)\n",
    "m.fit_bounds(ejendomLayer.get_bounds())\n",
    "m"
   ],
   "metadata": {
    "collapsed": false,
    "ExecuteTime": {
     "end_time": "2023-05-09T11:02:05.346260249Z",
     "start_time": "2023-05-09T11:02:05.328616977Z"
    }
   }
  }
 ],
 "metadata": {
  "kernelspec": {
   "display_name": "Python 3",
   "language": "python",
   "name": "python3"
  },
  "language_info": {
   "codemirror_mode": {
    "name": "ipython",
    "version": 2
   },
   "file_extension": ".py",
   "mimetype": "text/x-python",
   "name": "python",
   "nbconvert_exporter": "python",
   "pygments_lexer": "ipython2",
   "version": "2.7.6"
  }
 },
 "nbformat": 4,
 "nbformat_minor": 0
}
