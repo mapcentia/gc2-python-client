{
 "cells": [
  {
   "cell_type": "markdown",
   "source": [
    "Hej hej test"
   ],
   "metadata": {
    "collapsed": false,
    "pycharm": {
     "name": "#%% md\n"
    }
   }
  },
  {
   "cell_type": "code",
   "execution_count": 1,
   "outputs": [
    {
     "name": "stdout",
     "output_type": "stream",
     "text": [
      "Requirement already satisfied: gc2-python-client in /home/mh/Source/gc2-python-client (2022.8.1)\r\n",
      "\u001B[33mWARNING: You are using pip version 21.3.1; however, version 22.2.2 is available.\r\n",
      "You should consider upgrading via the '/home/mh/Source/gc2-python-client/venv/bin/python -m pip install --upgrade pip' command.\u001B[0m\r\n"
     ]
    }
   ],
   "source": [
    "!pip install --index-url https://test.pypi.org/simple/ gc2-python-client"
   ],
   "metadata": {
    "collapsed": false,
    "pycharm": {
     "name": "#%%\n"
    }
   }
  },
  {
   "cell_type": "code",
   "execution_count": 2,
   "outputs": [],
   "source": [
    "import gc2\n",
    "import folium\n",
    "import pandas"
   ],
   "metadata": {
    "collapsed": false,
    "pycharm": {
     "name": "#%%\n"
    }
   }
  },
  {
   "cell_type": "code",
   "execution_count": 3,
   "outputs": [],
   "source": [
    "local = gc2.Gc2(\"https://dk.gc2.io\")\n",
    "# local = gc2.Gc2(\"http://127.0.0.1:8080\")\n",
    "local.set_authentication(user=\"dk_test\", pw=\"Pwd1234!\", db=\"dk\")\n",
    "# local.set_authentication(user=\"mydb\", pw=\"hawk2000\", db=\"mydb\")\n"
   ],
   "metadata": {
    "collapsed": false,
    "pycharm": {
     "name": "#%%\n"
    }
   }
  },
  {
   "cell_type": "code",
   "execution_count": 5,
   "outputs": [
    {
     "data": {
      "text/plain": "       ejerlavsnavn matrikelnummer  hej\n0   Vejle By, Vejle            51e    1\n1   Vejle By, Vejle            4ar    1\n2   Vejle By, Vejle            4at    1\n3   Vejle By, Vejle            22k    1\n4   Vejle By, Vejle            52e    1\n..              ...            ...  ...\n95  Vejle By, Vejle            7cs    1\n96  Vejle By, Vejle            7cd    1\n97  Vejle By, Vejle            4au    1\n98  Vejle By, Vejle            4bc    1\n99  Vejle By, Vejle            20g    1\n\n[100 rows x 3 columns]",
      "text/html": "<div>\n<style scoped>\n    .dataframe tbody tr th:only-of-type {\n        vertical-align: middle;\n    }\n\n    .dataframe tbody tr th {\n        vertical-align: top;\n    }\n\n    .dataframe thead th {\n        text-align: right;\n    }\n</style>\n<table border=\"1\" class=\"dataframe\">\n  <thead>\n    <tr style=\"text-align: right;\">\n      <th></th>\n      <th>ejerlavsnavn</th>\n      <th>matrikelnummer</th>\n      <th>hej</th>\n    </tr>\n  </thead>\n  <tbody>\n    <tr>\n      <th>0</th>\n      <td>Vejle By, Vejle</td>\n      <td>51e</td>\n      <td>1</td>\n    </tr>\n    <tr>\n      <th>1</th>\n      <td>Vejle By, Vejle</td>\n      <td>4ar</td>\n      <td>1</td>\n    </tr>\n    <tr>\n      <th>2</th>\n      <td>Vejle By, Vejle</td>\n      <td>4at</td>\n      <td>1</td>\n    </tr>\n    <tr>\n      <th>3</th>\n      <td>Vejle By, Vejle</td>\n      <td>22k</td>\n      <td>1</td>\n    </tr>\n    <tr>\n      <th>4</th>\n      <td>Vejle By, Vejle</td>\n      <td>52e</td>\n      <td>1</td>\n    </tr>\n    <tr>\n      <th>...</th>\n      <td>...</td>\n      <td>...</td>\n      <td>...</td>\n    </tr>\n    <tr>\n      <th>95</th>\n      <td>Vejle By, Vejle</td>\n      <td>7cs</td>\n      <td>1</td>\n    </tr>\n    <tr>\n      <th>96</th>\n      <td>Vejle By, Vejle</td>\n      <td>7cd</td>\n      <td>1</td>\n    </tr>\n    <tr>\n      <th>97</th>\n      <td>Vejle By, Vejle</td>\n      <td>4au</td>\n      <td>1</td>\n    </tr>\n    <tr>\n      <th>98</th>\n      <td>Vejle By, Vejle</td>\n      <td>4bc</td>\n      <td>1</td>\n    </tr>\n    <tr>\n      <th>99</th>\n      <td>Vejle By, Vejle</td>\n      <td>20g</td>\n      <td>1</td>\n    </tr>\n  </tbody>\n</table>\n<p>100 rows × 3 columns</p>\n</div>"
     },
     "execution_count": 5,
     "metadata": {},
     "output_type": "execute_result"
    }
   ],
   "source": [
    "query = gc2.Sql(local)\n",
    "query.run(\"select ejerlavsnavn, matrikelnummer, 1 as hej, the_geom from matrikel.jordstykke limit 100\")\n",
    "pandas.DataFrame(query.rows, columns=query.columns)"
   ],
   "metadata": {
    "collapsed": false,
    "pycharm": {
     "name": "#%%\n"
    }
   }
  },
  {
   "cell_type": "code",
   "execution_count": null,
   "outputs": [],
   "source": [
    "m = folium.Map(\n",
    "    location=[56.1759, 10.6016],\n",
    "    tiles=\"cartodbpositron\",\n",
    "    zoom_start=7,\n",
    ")\n",
    "folium.GeoJson(query.geojson, name=\"geojson\").add_to(m)\n",
    "folium.LayerControl().add_to(m)\n",
    "m"
   ],
   "metadata": {
    "collapsed": false,
    "pycharm": {
     "name": "#%%\n"
    }
   }
  }
 ],
 "metadata": {
  "kernelspec": {
   "display_name": "Python 3",
   "language": "python",
   "name": "python3"
  },
  "language_info": {
   "codemirror_mode": {
    "name": "ipython",
    "version": 2
   },
   "file_extension": ".py",
   "mimetype": "text/x-python",
   "name": "python",
   "nbconvert_exporter": "python",
   "pygments_lexer": "ipython2",
   "version": "2.7.6"
  }
 },
 "nbformat": 4,
 "nbformat_minor": 0
}