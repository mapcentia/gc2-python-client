{
 "cells": [
  {
   "cell_type": "code",
   "execution_count": null,
   "outputs": [],
   "source": [
    "# Eksempel på hvordan man kan søge og analysere data i GC2\n",
    "\n",
    "Denne Notebook viser hvordan man vha. SQL kan søge i en GC2 database. Eksemplet anvender gc2.io databasen med offentlige tilgængelige data. Eksemplet er en simple søgning på en samlet ejendom vha. adresse og viser hvordan ejendommen kan anvendes til at søge videre i DKJord dataene for at se, om der er registreret forurening på ejendommen."
   ],
   "metadata": {
    "collapsed": false
   }
  },
  {
   "cell_type": "code",
   "execution_count": null,
   "outputs": [],
   "source": [
    "Først hentes gc2-python-client Python Package Index."
   ],
   "metadata": {
    "collapsed": false
   }
  },
  {
   "cell_type": "code",
   "execution_count": null,
   "outputs": [],
   "source": [
    "!pip install --index-url https://test.pypi.org/simple/ gc2-python-client"
   ],
   "metadata": {
    "collapsed": false
   }
  },
  {
   "cell_type": "code",
   "execution_count": null,
   "outputs": [],
   "source": [
    "Importer moduler. Udover GC2 vil vi anvende Pandas og Folium, som hhv. bruges til datatabeller og kort."
   ],
   "metadata": {
    "collapsed": false
   }
  },
  {
   "cell_type": "code",
   "execution_count": null,
   "outputs": [],
   "source": [
    "import gc2\n",
    "import folium\n",
    "import pandas"
   ],
   "metadata": {
    "collapsed": false
   }
  },
  {
   "cell_type": "code",
   "execution_count": null,
   "outputs": [],
   "source": [
    "Vi sætter en forbindelse op til dk.gc2.dk med en test-bruger."
   ],
   "metadata": {
    "collapsed": false
   }
  },
  {
   "cell_type": "code",
   "execution_count": null,
   "outputs": [],
   "source": [
    "dk = gc2.Gc2(\"https://dk.gc2.io\")\n",
    "dk.set_authentication(user=\"dk_test\", pw=\"Pwd1234!\", db=\"dk\")"
   ],
   "metadata": {
    "collapsed": false
   }
  },
  {
   "cell_type": "code",
   "execution_count": null,
   "outputs": [],
   "source": [
    "Vi gør to SQL objekter klar, så vi kan hente ejendoms-data og dkjord-data."
   ],
   "metadata": {
    "collapsed": false
   }
  },
  {
   "cell_type": "code",
   "execution_count": null,
   "outputs": [],
   "source": [
    "ejendom = gc2.Sql(dk)\n",
    "dkjord = gc2.Sql(dk)"
   ],
   "metadata": {
    "collapsed": false
   }
  },
  {
   "cell_type": "code",
   "execution_count": null,
   "outputs": [],
   "source": [
    "Så kan vi lave en forespørgsel på en samlet ejendom ud fra en adresse."
   ],
   "metadata": {
    "collapsed": false
   }
  },
  {
   "cell_type": "code",
   "execution_count": null,
   "outputs": [],
   "source": [
    "husnr = \"34\"\n",
    "vejkode = \"0295\"\n",
    "postnr = \"5853\"\n",
    "\n",
    "ejendom.run(f\"\"\"\n",
    "SELECT sfe_ejendomsnummer,ST_Multi(ST_Union(the_geom)), ST_astext(ST_Multi(ST_Union(the_geom))) as wkt FROM matrikel.jordstykke\n",
    "    WHERE sfe_ejendomsnummer = (SELECT sfe_ejendomsnummer FROM matrikel.jordstykke\n",
    "    WHERE (the_geom && (SELECT ST_transform(the_geom, 25832) FROM dar.adgangsadresser WHERE husnr='{husnr}' AND vejkode='{vejkode}' AND postnr='{postnr}')) AND ST_Intersects(the_geom, (SELECT ST_transform(the_geom, 25832) FROM dar.adgangsadresser WHERE husnr='{husnr}' AND vejkode='{vejkode}' AND postnr='{postnr}'))) group by sfe_ejendomsnummer\n",
    "\"\"\")\n",
    "pandas.DataFrame(ejendom.data, columns=ejendom.columns)"
   ],
   "metadata": {
    "collapsed": false
   }
  },
  {
   "cell_type": "code",
   "execution_count": null,
   "outputs": [],
   "source": [
    "Derefter kan vi bruge ejendommens geometri til at finde evt. forurenet jord."
   ],
   "metadata": {
    "collapsed": false
   }
  },
  {
   "cell_type": "code",
   "execution_count": null,
   "outputs": [],
   "source": [
    "dkjord.run(f\"\"\"\n",
    "SELECT * from dkjord.dkjord_v1 where ST_intersects(the_geom, ST_geomfromtext('{ejendom.data[0][1]}',25832))\n",
    "\"\"\")\n",
    "pandas.DataFrame(dkjord.data, columns=dkjord.columns)"
   ],
   "metadata": {
    "collapsed": false
   }
  },
  {
   "cell_type": "code",
   "execution_count": null,
   "outputs": [],
   "source": [
    "Vi sætter tilsidste et kort op, der viser hhv. ejendommen og forureningen."
   ],
   "metadata": {
    "collapsed": false
   }
  },
  {
   "cell_type": "code",
   "execution_count": null,
   "outputs": [],
   "source": [
    "ejendomStyle = {'fillColor': '#228B22', 'color': '#228B22'}\n",
    "dkjordStyle = {'color': '#FF0000'}\n",
    "\n",
    "m = folium.Map(\n",
    "    location=[56.1759, 10.6016],\n",
    "    tiles=\"cartodbpositron\",\n",
    "    zoom_start=7,\n",
    ")\n",
    "ejendomLayer = folium.GeoJson(data=ejendom.geojson, name=\"ejendom\", style_function=lambda x:ejendomStyle).add_to(m)\n",
    "folium.GeoJson(data=dkjord.geojson, name=\"dkjord\", style_function=lambda x:dkjordStyle).add_to(m)\n",
    "folium.LayerControl().add_to(m)\n",
    "m.fit_bounds(ejendomLayer.get_bounds())\n",
    "m"
   ],
   "metadata": {
    "collapsed": false
   }
  },
  {
   "cell_type": "code",
   "execution_count": null,
   "outputs": [],
   "source": [],
   "metadata": {
    "collapsed": false
   }
  }
 ],
 "metadata": {
  "kernelspec": {
   "display_name": "Python 3",
   "language": "python",
   "name": "python3"
  },
  "language_info": {
   "codemirror_mode": {
    "name": "ipython",
    "version": 2
   },
   "file_extension": ".py",
   "mimetype": "text/x-python",
   "name": "python",
   "nbconvert_exporter": "python",
   "pygments_lexer": "ipython2",
   "version": "2.7.6"
  }
 },
 "nbformat": 4,
 "nbformat_minor": 0
}
