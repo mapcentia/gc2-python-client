{
 "cells": [
  {
   "cell_type": "markdown",
   "source": [
    "Hej hej test"
   ],
   "metadata": {
    "collapsed": false,
    "pycharm": {
     "name": "#%% md\n"
    }
   }
  },
  {
   "cell_type": "code",
   "execution_count": 2,
   "outputs": [
    {
     "name": "stdout",
     "output_type": "stream",
     "text": [
      "Looking in indexes: https://test.pypi.org/simple/\r\n",
      "Requirement already satisfied: gc2-python-client in /home/mh/Source/gc2-python-client (2022.8.0)\r\n",
      "\u001B[33mWARNING: You are using pip version 21.3.1; however, version 22.2.2 is available.\r\n",
      "You should consider upgrading via the '/home/mh/Source/gc2-python-client/venv/bin/python -m pip install --upgrade pip' command.\u001B[0m\r\n",
      "Note: you may need to restart the kernel to use updated packages.\n"
     ]
    }
   ],
   "source": [
    "%pip install --index-url https://test.pypi.org/simple/ --no-deps gc2-python-client\n",
    "import gc2\n",
    "from pandas import DataFrame, concat\n",
    "import tabulate\n",
    "import json\n",
    "import folium\n",
    "\n"
   ],
   "metadata": {
    "collapsed": false,
    "pycharm": {
     "name": "#%%\n"
    }
   }
  },
  {
   "cell_type": "code",
   "execution_count": 3,
   "outputs": [
    {
     "ename": "Exception",
     "evalue": "Error 400: {\"error\":\"invalid_grant\",\"error_description\":\"Could not authenticate the user. Check username and password\",\"code\":400,\"_execution_time\":0.011}",
     "output_type": "error",
     "traceback": [
      "\u001B[0;31m---------------------------------------------------------------------------\u001B[0m",
      "\u001B[0;31mException\u001B[0m                                 Traceback (most recent call last)",
      "Input \u001B[0;32mIn [3]\u001B[0m, in \u001B[0;36m<cell line: 3>\u001B[0;34m()\u001B[0m\n\u001B[1;32m      1\u001B[0m local \u001B[38;5;241m=\u001B[39m gc2\u001B[38;5;241m.\u001B[39mGc2(\u001B[38;5;124m\"\u001B[39m\u001B[38;5;124mhttps://dk.gc2.io\u001B[39m\u001B[38;5;124m\"\u001B[39m)\n\u001B[1;32m      2\u001B[0m \u001B[38;5;66;03m# local = gc2.Gc2(\"http://127.0.0.1:8080\")\u001B[39;00m\n\u001B[0;32m----> 3\u001B[0m \u001B[43mlocal\u001B[49m\u001B[38;5;241;43m.\u001B[39;49m\u001B[43mset_authentication\u001B[49m\u001B[43m(\u001B[49m\u001B[43muser\u001B[49m\u001B[38;5;241;43m=\u001B[39;49m\u001B[38;5;124;43m\"\u001B[39;49m\u001B[38;5;124;43mdk_test\u001B[39;49m\u001B[38;5;124;43m\"\u001B[39;49m\u001B[43m,\u001B[49m\u001B[43m \u001B[49m\u001B[43mpw\u001B[49m\u001B[38;5;241;43m=\u001B[39;49m\u001B[38;5;124;43m\"\u001B[39;49m\u001B[38;5;124;43mpw1234!\u001B[39;49m\u001B[38;5;124;43m\"\u001B[39;49m\u001B[43m,\u001B[49m\u001B[43m \u001B[49m\u001B[43mdb\u001B[49m\u001B[38;5;241;43m=\u001B[39;49m\u001B[38;5;124;43m\"\u001B[39;49m\u001B[38;5;124;43mdk\u001B[39;49m\u001B[38;5;124;43m\"\u001B[39;49m\u001B[43m)\u001B[49m\n",
      "File \u001B[0;32m~/Source/gc2-python-client/gc2/gc2.py:64\u001B[0m, in \u001B[0;36mGc2.set_authentication\u001B[0;34m(self, user, pw, db)\u001B[0m\n\u001B[1;32m     62\u001B[0m \u001B[38;5;28mself\u001B[39m\u001B[38;5;241m.\u001B[39mtoken \u001B[38;5;241m=\u001B[39m \u001B[38;5;28;01mNone\u001B[39;00m\n\u001B[1;32m     63\u001B[0m \u001B[38;5;28mself\u001B[39m\u001B[38;5;241m.\u001B[39mauth_response \u001B[38;5;241m=\u001B[39m \u001B[38;5;28;01mNone\u001B[39;00m\n\u001B[0;32m---> 64\u001B[0m \u001B[38;5;28;01mraise\u001B[39;00m e\n",
      "File \u001B[0;32m~/Source/gc2-python-client/gc2/gc2.py:56\u001B[0m, in \u001B[0;36mGc2.set_authentication\u001B[0;34m(self, user, pw, db)\u001B[0m\n\u001B[1;32m     54\u001B[0m \u001B[38;5;28mself\u001B[39m\u001B[38;5;241m.\u001B[39m__auth \u001B[38;5;241m=\u001B[39m (user, pw, db)\n\u001B[1;32m     55\u001B[0m \u001B[38;5;28;01mtry\u001B[39;00m:\n\u001B[0;32m---> 56\u001B[0m     \u001B[38;5;28;43mself\u001B[39;49m\u001B[38;5;241;43m.\u001B[39;49m\u001B[43m__check_auth\u001B[49m\u001B[43m(\u001B[49m\u001B[43m)\u001B[49m\n\u001B[1;32m     57\u001B[0m \u001B[38;5;28;01mexcept\u001B[39;00m \u001B[38;5;167;01mException\u001B[39;00m \u001B[38;5;28;01mas\u001B[39;00m e:\n\u001B[1;32m     58\u001B[0m     \u001B[38;5;28mself\u001B[39m\u001B[38;5;241m.\u001B[39muser \u001B[38;5;241m=\u001B[39m \u001B[38;5;28;01mNone\u001B[39;00m\n",
      "File \u001B[0;32m~/Source/gc2-python-client/gc2/gc2.py:43\u001B[0m, in \u001B[0;36mGc2.__check_auth\u001B[0;34m(self)\u001B[0m\n\u001B[1;32m     41\u001B[0m resp \u001B[38;5;241m=\u001B[39m requests\u001B[38;5;241m.\u001B[39mpost(url, headers\u001B[38;5;241m=\u001B[39m\u001B[38;5;28mself\u001B[39m\u001B[38;5;241m.\u001B[39mheaders, data\u001B[38;5;241m=\u001B[39mjson\u001B[38;5;241m.\u001B[39mdumps(creds))\n\u001B[1;32m     42\u001B[0m \u001B[38;5;28;01mif\u001B[39;00m resp\u001B[38;5;241m.\u001B[39mstatus_code \u001B[38;5;241m!=\u001B[39m \u001B[38;5;241m200\u001B[39m:\n\u001B[0;32m---> 43\u001B[0m     \u001B[38;5;28;01mraise\u001B[39;00m \u001B[38;5;167;01mException\u001B[39;00m(\u001B[38;5;124mf\u001B[39m\u001B[38;5;124m\"\u001B[39m\u001B[38;5;124mError \u001B[39m\u001B[38;5;132;01m{\u001B[39;00mresp\u001B[38;5;241m.\u001B[39mstatus_code\u001B[38;5;132;01m}\u001B[39;00m\u001B[38;5;124m: \u001B[39m\u001B[38;5;132;01m{\u001B[39;00mresp\u001B[38;5;241m.\u001B[39mtext\u001B[38;5;132;01m}\u001B[39;00m\u001B[38;5;124m\"\u001B[39m)\n\u001B[1;32m     44\u001B[0m \u001B[38;5;28;01melse\u001B[39;00m:\n\u001B[1;32m     45\u001B[0m     logging\u001B[38;5;241m.\u001B[39minfo(\u001B[38;5;124mf\u001B[39m\u001B[38;5;124m\"\u001B[39m\u001B[38;5;132;01m{\u001B[39;00m\u001B[38;5;28mself\u001B[39m\u001B[38;5;241m.\u001B[39muser\u001B[38;5;132;01m}\u001B[39;00m\u001B[38;5;124m is logged in.\u001B[39m\u001B[38;5;124m\"\u001B[39m)\n",
      "\u001B[0;31mException\u001B[0m: Error 400: {\"error\":\"invalid_grant\",\"error_description\":\"Could not authenticate the user. Check username and password\",\"code\":400,\"_execution_time\":0.011}"
     ]
    }
   ],
   "source": [
    "local = gc2.Gc2(\"https://dk.gc2.io\")\n",
    "# local = gc2.Gc2(\"http://127.0.0.1:8080\")\n",
    "local.set_authentication(user=\"dk_test\", pw=\"pw1234!\", db=\"dk\")\n",
    "# local.set_authentication(user=\"mydb\", pw=\"hawk2000\", db=\"mydb\")\n"
   ],
   "metadata": {
    "collapsed": false,
    "pycharm": {
     "name": "#%%\n"
    }
   }
  },
  {
   "cell_type": "code",
   "execution_count": 4,
   "outputs": [
    {
     "data": {
      "text/plain": "'<table>\\n<tbody>\\n<tr><td>ejerlavsnavn          </td><td>matrikelnummer</td><td>the_geom</td></tr>\\n<tr><td>Tåstrup, Holbæk Jorder</td><td>4ep           </td><td>        </td></tr>\\n<tr><td>Tåstrup, Holbæk Jorder</td><td>4ei           </td><td>        </td></tr>\\n<tr><td>Tåstrup, Holbæk Jorder</td><td>4iq           </td><td>        </td></tr>\\n<tr><td>Tåstrup, Holbæk Jorder</td><td>2ae           </td><td>        </td></tr>\\n<tr><td>Tåstrup, Holbæk Jorder</td><td>2ai           </td><td>        </td></tr>\\n<tr><td>Tåstrup, Holbæk Jorder</td><td>8             </td><td>        </td></tr>\\n<tr><td>Tåstrup, Holbæk Jorder</td><td>7000æ         </td><td>        </td></tr>\\n<tr><td>Tåstrup, Holbæk Jorder</td><td>17            </td><td>        </td></tr>\\n<tr><td>Tåstrup, Holbæk Jorder</td><td>3ei           </td><td>        </td></tr>\\n<tr><td>Tåstrup, Holbæk Jorder</td><td>3em           </td><td>        </td></tr>\\n</tbody>\\n</table>'",
      "text/html": "<table>\n<tbody>\n<tr><td>ejerlavsnavn          </td><td>matrikelnummer</td><td>the_geom</td></tr>\n<tr><td>Tåstrup, Holbæk Jorder</td><td>4ep           </td><td>        </td></tr>\n<tr><td>Tåstrup, Holbæk Jorder</td><td>4ei           </td><td>        </td></tr>\n<tr><td>Tåstrup, Holbæk Jorder</td><td>4iq           </td><td>        </td></tr>\n<tr><td>Tåstrup, Holbæk Jorder</td><td>2ae           </td><td>        </td></tr>\n<tr><td>Tåstrup, Holbæk Jorder</td><td>2ai           </td><td>        </td></tr>\n<tr><td>Tåstrup, Holbæk Jorder</td><td>8             </td><td>        </td></tr>\n<tr><td>Tåstrup, Holbæk Jorder</td><td>7000æ         </td><td>        </td></tr>\n<tr><td>Tåstrup, Holbæk Jorder</td><td>17            </td><td>        </td></tr>\n<tr><td>Tåstrup, Holbæk Jorder</td><td>3ei           </td><td>        </td></tr>\n<tr><td>Tåstrup, Holbæk Jorder</td><td>3em           </td><td>        </td></tr>\n</tbody>\n</table>"
     },
     "execution_count": 4,
     "metadata": {},
     "output_type": "execute_result"
    }
   ],
   "source": [
    "query = gc2.Sql(local)\n",
    "query.run(\"select ejerlavsnavn, matrikelnummer, the_geom from matrikel.jordstykke limit 10\")\n",
    "# query.table\n",
    "tabulate.tabulate(query.table,  tablefmt='html')\n"
   ],
   "metadata": {
    "collapsed": false,
    "pycharm": {
     "name": "#%%\n"
    }
   }
  },
  {
   "cell_type": "code",
   "execution_count": null,
   "outputs": [],
   "source": [
    "m = folium.Map(\n",
    "    location=[56.1759, 10.6016],\n",
    "    tiles=\"cartodbpositron\",\n",
    "    zoom_start=7,\n",
    ")\n",
    "folium.GeoJson(query.geojson, name=\"geojson\").add_to(m)\n",
    "folium.LayerControl().add_to(m)\n",
    "m"
   ],
   "metadata": {
    "collapsed": false,
    "pycharm": {
     "name": "#%%\n"
    }
   }
  }
 ],
 "metadata": {
  "kernelspec": {
   "display_name": "Python 3",
   "language": "python",
   "name": "python3"
  },
  "language_info": {
   "codemirror_mode": {
    "name": "ipython",
    "version": 2
   },
   "file_extension": ".py",
   "mimetype": "text/x-python",
   "name": "python",
   "nbconvert_exporter": "python",
   "pygments_lexer": "ipython2",
   "version": "2.7.6"
  }
 },
 "nbformat": 4,
 "nbformat_minor": 0
}