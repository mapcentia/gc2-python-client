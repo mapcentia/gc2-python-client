{
 "cells": [
  {
   "cell_type": "markdown",
   "source": [
    "Hej hej test"
   ],
   "metadata": {
    "collapsed": false,
    "pycharm": {
     "name": "#%% md\n"
    }
   }
  },
  {
   "cell_type": "code",
   "execution_count": 4,
   "outputs": [
    {
     "name": "stdout",
     "output_type": "stream",
     "text": [
      "Looking in indexes: https://test.pypi.org/simple/\r\n",
      "Requirement already satisfied: gc2-python-client in /home/mh/Source/gc2-python-client (2022.8.0)\r\n",
      "\u001B[33mWARNING: You are using pip version 21.3.1; however, version 22.2.2 is available.\r\n",
      "You should consider upgrading via the '/home/mh/Source/gc2-python-client/venv/bin/python -m pip install --upgrade pip' command.\u001B[0m\r\n",
      "Note: you may need to restart the kernel to use updated packages.\n"
     ]
    }
   ],
   "source": [
    "%pip install --index-url https://test.pypi.org/simple/ --no-deps gc2-python-client\n",
    "import gc2\n",
    "from pandas import DataFrame, concat\n",
    "import tabulate\n",
    "import json\n",
    "import folium\n",
    "\n"
   ],
   "metadata": {
    "collapsed": false,
    "pycharm": {
     "name": "#%%\n"
    }
   }
  },
  {
   "cell_type": "code",
   "execution_count": 5,
   "outputs": [],
   "source": [
    "local = gc2.Gc2(\"https://dk.gc2.io\")\n",
    "# local = gc2.Gc2(\"http://127.0.0.1:8080\")\n",
    "local.set_authentication(user=\"dk_test\", pw=\"Pwd1234!\", db=\"dk\")\n",
    "# local.set_authentication(user=\"mydb\", pw=\"hawk2000\", db=\"mydb\")\n"
   ],
   "metadata": {
    "collapsed": false,
    "pycharm": {
     "name": "#%%\n"
    }
   }
  },
  {
   "cell_type": "code",
   "execution_count": 6,
   "outputs": [
    {
     "data": {
      "text/plain": "'<table>\\n<tbody>\\n<tr><td>ejerlavsnavn          </td><td>matrikelnummer</td><td>the_geom</td></tr>\\n<tr><td>Tåstrup, Holbæk Jorder</td><td>4ep           </td><td>        </td></tr>\\n<tr><td>Tåstrup, Holbæk Jorder</td><td>4ei           </td><td>        </td></tr>\\n<tr><td>Tåstrup, Holbæk Jorder</td><td>4iq           </td><td>        </td></tr>\\n<tr><td>Tåstrup, Holbæk Jorder</td><td>2ae           </td><td>        </td></tr>\\n<tr><td>Tåstrup, Holbæk Jorder</td><td>2ai           </td><td>        </td></tr>\\n<tr><td>Tåstrup, Holbæk Jorder</td><td>8             </td><td>        </td></tr>\\n<tr><td>Tåstrup, Holbæk Jorder</td><td>7000æ         </td><td>        </td></tr>\\n<tr><td>Tåstrup, Holbæk Jorder</td><td>17            </td><td>        </td></tr>\\n<tr><td>Tåstrup, Holbæk Jorder</td><td>3ei           </td><td>        </td></tr>\\n<tr><td>Tåstrup, Holbæk Jorder</td><td>3em           </td><td>        </td></tr>\\n</tbody>\\n</table>'",
      "text/html": "<table>\n<tbody>\n<tr><td>ejerlavsnavn          </td><td>matrikelnummer</td><td>the_geom</td></tr>\n<tr><td>Tåstrup, Holbæk Jorder</td><td>4ep           </td><td>        </td></tr>\n<tr><td>Tåstrup, Holbæk Jorder</td><td>4ei           </td><td>        </td></tr>\n<tr><td>Tåstrup, Holbæk Jorder</td><td>4iq           </td><td>        </td></tr>\n<tr><td>Tåstrup, Holbæk Jorder</td><td>2ae           </td><td>        </td></tr>\n<tr><td>Tåstrup, Holbæk Jorder</td><td>2ai           </td><td>        </td></tr>\n<tr><td>Tåstrup, Holbæk Jorder</td><td>8             </td><td>        </td></tr>\n<tr><td>Tåstrup, Holbæk Jorder</td><td>7000æ         </td><td>        </td></tr>\n<tr><td>Tåstrup, Holbæk Jorder</td><td>17            </td><td>        </td></tr>\n<tr><td>Tåstrup, Holbæk Jorder</td><td>3ei           </td><td>        </td></tr>\n<tr><td>Tåstrup, Holbæk Jorder</td><td>3em           </td><td>        </td></tr>\n</tbody>\n</table>"
     },
     "execution_count": 6,
     "metadata": {},
     "output_type": "execute_result"
    }
   ],
   "source": [
    "query = gc2.Sql(local)\n",
    "query.run(\"select ejerlavsnavn, matrikelnummer, the_geom from matrikel.jordstykke limit 10\")\n",
    "# query.table\n",
    "tabulate.tabulate(query.table,  tablefmt='html')\n"
   ],
   "metadata": {
    "collapsed": false,
    "pycharm": {
     "name": "#%%\n"
    }
   }
  },
  {
   "cell_type": "code",
   "execution_count": 7,
   "outputs": [
    {
     "data": {
      "text/plain": "<folium.folium.Map at 0x7f9a2162d360>",
      "text/html": "<div style=\"width:100%;\"><div style=\"position:relative;width:100%;height:0;padding-bottom:60%;\"><span style=\"color:#565656\">Make this Notebook Trusted to load map: File -> Trust Notebook</span><iframe srcdoc=\"&lt;!DOCTYPE html&gt;\n&lt;head&gt;    \n    &lt;meta http-equiv=&quot;content-type&quot; content=&quot;text/html; charset=UTF-8&quot; /&gt;\n    \n        &lt;script&gt;\n            L_NO_TOUCH = false;\n            L_DISABLE_3D = false;\n        &lt;/script&gt;\n    \n    &lt;style&gt;html, body {width: 100%;height: 100%;margin: 0;padding: 0;}&lt;/style&gt;\n    &lt;style&gt;#map {position:absolute;top:0;bottom:0;right:0;left:0;}&lt;/style&gt;\n    &lt;script src=&quot;https://cdn.jsdelivr.net/npm/leaflet@1.6.0/dist/leaflet.js&quot;&gt;&lt;/script&gt;\n    &lt;script src=&quot;https://code.jquery.com/jquery-1.12.4.min.js&quot;&gt;&lt;/script&gt;\n    &lt;script src=&quot;https://maxcdn.bootstrapcdn.com/bootstrap/3.2.0/js/bootstrap.min.js&quot;&gt;&lt;/script&gt;\n    &lt;script src=&quot;https://cdnjs.cloudflare.com/ajax/libs/Leaflet.awesome-markers/2.0.2/leaflet.awesome-markers.js&quot;&gt;&lt;/script&gt;\n    &lt;link rel=&quot;stylesheet&quot; href=&quot;https://cdn.jsdelivr.net/npm/leaflet@1.6.0/dist/leaflet.css&quot;/&gt;\n    &lt;link rel=&quot;stylesheet&quot; href=&quot;https://maxcdn.bootstrapcdn.com/bootstrap/3.2.0/css/bootstrap.min.css&quot;/&gt;\n    &lt;link rel=&quot;stylesheet&quot; href=&quot;https://maxcdn.bootstrapcdn.com/bootstrap/3.2.0/css/bootstrap-theme.min.css&quot;/&gt;\n    &lt;link rel=&quot;stylesheet&quot; href=&quot;https://maxcdn.bootstrapcdn.com/font-awesome/4.6.3/css/font-awesome.min.css&quot;/&gt;\n    &lt;link rel=&quot;stylesheet&quot; href=&quot;https://cdnjs.cloudflare.com/ajax/libs/Leaflet.awesome-markers/2.0.2/leaflet.awesome-markers.css&quot;/&gt;\n    &lt;link rel=&quot;stylesheet&quot; href=&quot;https://cdn.jsdelivr.net/gh/python-visualization/folium/folium/templates/leaflet.awesome.rotate.min.css&quot;/&gt;\n    \n            &lt;meta name=&quot;viewport&quot; content=&quot;width=device-width,\n                initial-scale=1.0, maximum-scale=1.0, user-scalable=no&quot; /&gt;\n            &lt;style&gt;\n                #map_9c089b0dabb37a72dbed8ba912c31d30 {\n                    position: relative;\n                    width: 100.0%;\n                    height: 100.0%;\n                    left: 0.0%;\n                    top: 0.0%;\n                }\n            &lt;/style&gt;\n        \n&lt;/head&gt;\n&lt;body&gt;    \n    \n            &lt;div class=&quot;folium-map&quot; id=&quot;map_9c089b0dabb37a72dbed8ba912c31d30&quot; &gt;&lt;/div&gt;\n        \n&lt;/body&gt;\n&lt;script&gt;    \n    \n            var map_9c089b0dabb37a72dbed8ba912c31d30 = L.map(\n                &quot;map_9c089b0dabb37a72dbed8ba912c31d30&quot;,\n                {\n                    center: [56.1759, 10.6016],\n                    crs: L.CRS.EPSG3857,\n                    zoom: 7,\n                    zoomControl: true,\n                    preferCanvas: false,\n                }\n            );\n\n            \n\n        \n    \n            var tile_layer_cd437daff2ac7dcd3978390b2a7261bc = L.tileLayer(\n                &quot;https://cartodb-basemaps-{s}.global.ssl.fastly.net/light_all/{z}/{x}/{y}.png&quot;,\n                {&quot;attribution&quot;: &quot;\\u0026copy; \\u003ca href=\\&quot;http://www.openstreetmap.org/copyright\\&quot;\\u003eOpenStreetMap\\u003c/a\\u003e contributors \\u0026copy; \\u003ca href=\\&quot;http://cartodb.com/attributions\\&quot;\\u003eCartoDB\\u003c/a\\u003e, CartoDB \\u003ca href =\\&quot;http://cartodb.com/attributions\\&quot;\\u003eattributions\\u003c/a\\u003e&quot;, &quot;detectRetina&quot;: false, &quot;maxNativeZoom&quot;: 18, &quot;maxZoom&quot;: 18, &quot;minZoom&quot;: 0, &quot;noWrap&quot;: false, &quot;opacity&quot;: 1, &quot;subdomains&quot;: &quot;abc&quot;, &quot;tms&quot;: false}\n            ).addTo(map_9c089b0dabb37a72dbed8ba912c31d30);\n        \n    \n\n        function geo_json_54c5ddb52592e48d3e4b7d00e9144ecb_onEachFeature(feature, layer) {\n            layer.on({\n            });\n        };\n        var geo_json_54c5ddb52592e48d3e4b7d00e9144ecb = L.geoJson(null, {\n                onEachFeature: geo_json_54c5ddb52592e48d3e4b7d00e9144ecb_onEachFeature,\n            \n        });\n\n        function geo_json_54c5ddb52592e48d3e4b7d00e9144ecb_add (data) {\n            geo_json_54c5ddb52592e48d3e4b7d00e9144ecb\n                .addData(data)\n                .addTo(map_9c089b0dabb37a72dbed8ba912c31d30);\n        }\n            geo_json_54c5ddb52592e48d3e4b7d00e9144ecb_add({&quot;_execution_time&quot;: 0.029, &quot;auth_check&quot;: {&quot;auth_level&quot;: &quot;Write&quot;, &quot;checked_relations&quot;: [&quot;matrikel.jordstykke&quot;], &quot;privileges&quot;: null, &quot;session&quot;: null, &quot;success&quot;: true}, &quot;features&quot;: [{&quot;geometry&quot;: {&quot;coordinates&quot;: [[[11.723034356313, 55.7010297559987], [11.7233049290695, 55.701076437163], [11.7231603667041, 55.7013210469489], [11.7228919824673, 55.7012925737269], [11.723034356313, 55.7010297559987]]], &quot;type&quot;: &quot;Polygon&quot;}, &quot;properties&quot;: {&quot;ejerlavsnavn&quot;: &quot;T\\u00e5strup, Holb\\u00e6k Jorder&quot;, &quot;matrikelnummer&quot;: &quot;4ep&quot;}, &quot;type&quot;: &quot;Feature&quot;}, {&quot;geometry&quot;: {&quot;coordinates&quot;: [[[11.7190601289628, 55.7008239754602], [11.7190957493862, 55.7006459036721], [11.7198146298209, 55.7006856161622], [11.7197720834905, 55.7008640754037], [11.719566238729, 55.7008467217585], [11.719320779862, 55.7008438729938], [11.7190601289628, 55.7008239754602]]], &quot;type&quot;: &quot;Polygon&quot;}, &quot;properties&quot;: {&quot;ejerlavsnavn&quot;: &quot;T\\u00e5strup, Holb\\u00e6k Jorder&quot;, &quot;matrikelnummer&quot;: &quot;4ei&quot;}, &quot;type&quot;: &quot;Feature&quot;}, {&quot;geometry&quot;: {&quot;coordinates&quot;: [[[11.7190957493862, 55.7006459036721], [11.7191255165757, 55.7004711077313], [11.7198582105151, 55.7004973089095], [11.7198146298209, 55.7006856161622], [11.7190957493862, 55.7006459036721]]], &quot;type&quot;: &quot;Polygon&quot;}, &quot;properties&quot;: {&quot;ejerlavsnavn&quot;: &quot;T\\u00e5strup, Holb\\u00e6k Jorder&quot;, &quot;matrikelnummer&quot;: &quot;4iq&quot;}, &quot;type&quot;: &quot;Feature&quot;}, {&quot;geometry&quot;: {&quot;coordinates&quot;: [[[11.7162468980527, 55.7001880922021], [11.7160437471171, 55.7002081035647], [11.7158753125109, 55.7002063298697], [11.7158142924565, 55.7002130916627], [11.7157651663872, 55.7002185295094], [11.7157407621167, 55.700043917558], [11.7157262826514, 55.6999403063648], [11.7162090757007, 55.699918789802], [11.7162468980527, 55.7001880922021]]], &quot;type&quot;: &quot;Polygon&quot;}, &quot;properties&quot;: {&quot;ejerlavsnavn&quot;: &quot;T\\u00e5strup, Holb\\u00e6k Jorder&quot;, &quot;matrikelnummer&quot;: &quot;2ae&quot;}, &quot;type&quot;: &quot;Feature&quot;}, {&quot;geometry&quot;: {&quot;coordinates&quot;: [[[11.7151190863392, 55.6996891124265], [11.7150687693883, 55.6995162961776], [11.7156160558345, 55.6995874885578], [11.7151190863392, 55.6996891124265]]], &quot;type&quot;: &quot;Polygon&quot;}, &quot;properties&quot;: {&quot;ejerlavsnavn&quot;: &quot;T\\u00e5strup, Holb\\u00e6k Jorder&quot;, &quot;matrikelnummer&quot;: &quot;2ai&quot;}, &quot;type&quot;: &quot;Feature&quot;}, {&quot;geometry&quot;: {&quot;coordinates&quot;: [[[11.7166906440986, 55.699749383272], [11.7170763434603, 55.6998031386948], [11.7170992972051, 55.6999152725602], [11.7171287271133, 55.6999707397484], [11.7171851362626, 55.7000800743763], [11.7172024694128, 55.7001307305559], [11.7172192738738, 55.7002148108213], [11.716931791272, 55.7002219667354], [11.7168225366662, 55.7002243045579], [11.7168032502515, 55.6999659541304], [11.7167902126483, 55.6999803825643], [11.7167440524285, 55.6999980432116], [11.7167308284125, 55.6999366349704], [11.7166906440986, 55.699749383272]]], &quot;type&quot;: &quot;Polygon&quot;}, &quot;properties&quot;: {&quot;ejerlavsnavn&quot;: &quot;T\\u00e5strup, Holb\\u00e6k Jorder&quot;, &quot;matrikelnummer&quot;: &quot;8&quot;}, &quot;type&quot;: &quot;Feature&quot;}, {&quot;geometry&quot;: {&quot;coordinates&quot;: [[[11.7187691426354, 55.6981636955378], [11.7190484351977, 55.6981160769671], [11.7190747173774, 55.698112923759], [11.7191015440171, 55.6981123383474], [11.719128165695, 55.6981143013809], [11.7191538304953, 55.6981187576079], [11.719177799276, 55.6981256065488], [11.7191993724645, 55.6981346299895], [11.7192194643593, 55.6981466166895], [11.7192353099921, 55.6981604863032], [11.7192463976766, 55.698175746782], [11.7192523593775, 55.6981919118828], [11.7192529803681, 55.698208411063], [11.7192482226062, 55.6982246968318], [11.7192382711644, 55.6982402257428], [11.7192238181019, 55.6982541914207], [11.7192051566391, 55.6982664615198], [11.7191828969001, 55.6982766539666], [11.7191577462357, 55.6982844115012], [11.7191305637591, 55.698289499348], [11.7191021811653, 55.6982917462635], [11.7190735653942, 55.6982910948662], [11.7190456235581, 55.6982875430354], [11.7190192403364, 55.6982812239848], [11.7189187707951, 55.6982507027804], [11.7187057040486, 55.6982870558019], [11.7186187791984, 55.6983018988039], [11.7185139328408, 55.6983213366479], [11.7184108775695, 55.698343647187], [11.7183098791711, 55.6983687616144], [11.7182111570042, 55.698396630131], [11.718177410771, 55.6984843738884], [11.7179315122196, 55.6982934358333], [11.7180870615667, 55.6983119330248], [11.7181788449272, 55.6982847666323], [11.718272579812, 55.6982598042118], [11.7183680798892, 55.6982371128101], [11.7184651868731, 55.6982167049186], [11.7185637297035, 55.6981986382577], [11.7187691426354, 55.6981636955378]]], &quot;type&quot;: &quot;Polygon&quot;}, &quot;properties&quot;: {&quot;ejerlavsnavn&quot;: &quot;T\\u00e5strup, Holb\\u00e6k Jorder&quot;, &quot;matrikelnummer&quot;: &quot;7000\\u00e6&quot;}, &quot;type&quot;: &quot;Feature&quot;}, {&quot;geometry&quot;: {&quot;coordinates&quot;: [[[11.7190564742584, 55.7003834748046], [11.719054477231, 55.7005093841092], [11.7189781712462, 55.7005075959556], [11.7189251428593, 55.7005063527517], [11.7189079574781, 55.7004883328534], [11.7188683154721, 55.7004733364028], [11.7188225638568, 55.7004657115001], [11.7184239212829, 55.7004381816562], [11.7182035747417, 55.7004173356165], [11.7178252725014, 55.7003691278977], [11.7177654426928, 55.7003662100379], [11.7171263616618, 55.7002734811513], [11.7169195590843, 55.7002945456331], [11.7169307587603, 55.7003474230984], [11.7168547315971, 55.7003514793411], [11.7168434368188, 55.7003047974456], [11.7167138764937, 55.7003186772106], [11.7167264153084, 55.7003486568503], [11.7165529515079, 55.7003604340707], [11.7165407209829, 55.7004357994955], [11.7161552328423, 55.7005301235794], [11.7161248962293, 55.700442540318], [11.716206368813, 55.7004151092855], [11.7163578016379, 55.7003540027725], [11.7164314642741, 55.7003135844536], [11.7166811817913, 55.7002475872835], [11.7168225366662, 55.7002243045579], [11.716931791272, 55.7002219667354], [11.7172192738738, 55.7002148108213], [11.7172943269622, 55.7002279090891], [11.7173980331721, 55.7002369030764], [11.717680449447, 55.700272547374], [11.7177997672245, 55.7002849257712], [11.7179088994693, 55.7002961812696], [11.7181498112378, 55.7003255164658], [11.718308749665, 55.7003447923664], [11.7184158153516, 55.7003682284435], [11.718669931032, 55.7003820875983], [11.7187815251026, 55.7003836335212], [11.7188930953858, 55.7003811707414], [11.7190564742584, 55.7003834748046]]], &quot;type&quot;: &quot;Polygon&quot;}, &quot;properties&quot;: {&quot;ejerlavsnavn&quot;: &quot;T\\u00e5strup, Holb\\u00e6k Jorder&quot;, &quot;matrikelnummer&quot;: &quot;17&quot;}, &quot;type&quot;: &quot;Feature&quot;}, {&quot;geometry&quot;: {&quot;coordinates&quot;: [[[11.7154660164651, 55.7010621571351], [11.7153074436411, 55.7009334545297], [11.7155077004229, 55.7007938999508], [11.7156476223353, 55.7007363929835], [11.7156948584911, 55.7007406422829], [11.7157491526613, 55.7007835232047], [11.7157813689113, 55.7008032334479], [11.7158172716181, 55.7008207856285], [11.7158564332288, 55.7008359824565], [11.7154660164651, 55.7010621571351]]], &quot;type&quot;: &quot;Polygon&quot;}, &quot;properties&quot;: {&quot;ejerlavsnavn&quot;: &quot;T\\u00e5strup, Holb\\u00e6k Jorder&quot;, &quot;matrikelnummer&quot;: &quot;3ei&quot;}, &quot;type&quot;: &quot;Feature&quot;}, {&quot;geometry&quot;: {&quot;coordinates&quot;: [[[11.716244903524, 55.7011274581289], [11.7162776584718, 55.7008771786275], [11.7165689362408, 55.7008865610873], [11.7165557307299, 55.7011499185243], [11.716244903524, 55.7011274581289]]], &quot;type&quot;: &quot;Polygon&quot;}, &quot;properties&quot;: {&quot;ejerlavsnavn&quot;: &quot;T\\u00e5strup, Holb\\u00e6k Jorder&quot;, &quot;matrikelnummer&quot;: &quot;3em&quot;}, &quot;type&quot;: &quot;Feature&quot;}], &quot;forGrid&quot;: [{&quot;dataIndex&quot;: &quot;ejerlavsnavn&quot;, &quot;header&quot;: &quot;ejerlavsnavn&quot;, &quot;type&quot;: &quot;character varying&quot;, &quot;typeObj&quot;: null}, {&quot;dataIndex&quot;: &quot;matrikelnummer&quot;, &quot;header&quot;: &quot;matrikelnummer&quot;, &quot;type&quot;: &quot;character varying&quot;, &quot;typeObj&quot;: null}, {&quot;dataIndex&quot;: &quot;the_geom&quot;, &quot;header&quot;: &quot;the_geom&quot;, &quot;type&quot;: &quot;geometry&quot;, &quot;typeObj&quot;: null}], &quot;forStore&quot;: [{&quot;name&quot;: &quot;ejerlavsnavn&quot;, &quot;type&quot;: &quot;character varying&quot;}, {&quot;name&quot;: &quot;matrikelnummer&quot;, &quot;type&quot;: &quot;character varying&quot;}, {&quot;name&quot;: &quot;the_geom&quot;, &quot;type&quot;: &quot;geometry&quot;}], &quot;peak_memory_usage&quot;: &quot;2146 KB&quot;, &quot;success&quot;: true, &quot;type&quot;: &quot;FeatureCollection&quot;});\n\n        \n    \n            var layer_control_e1ea56e1e35fb0a5f98105d94b964619 = {\n                base_layers : {\n                    &quot;cartodbpositron&quot; : tile_layer_cd437daff2ac7dcd3978390b2a7261bc,\n                },\n                overlays :  {\n                    &quot;geojson&quot; : geo_json_54c5ddb52592e48d3e4b7d00e9144ecb,\n                },\n            };\n            L.control.layers(\n                layer_control_e1ea56e1e35fb0a5f98105d94b964619.base_layers,\n                layer_control_e1ea56e1e35fb0a5f98105d94b964619.overlays,\n                {&quot;autoZIndex&quot;: true, &quot;collapsed&quot;: true, &quot;position&quot;: &quot;topright&quot;}\n            ).addTo(map_9c089b0dabb37a72dbed8ba912c31d30);\n        \n&lt;/script&gt;\" style=\"position:absolute;width:100%;height:100%;left:0;top:0;border:none !important;\" allowfullscreen webkitallowfullscreen mozallowfullscreen></iframe></div></div>"
     },
     "execution_count": 7,
     "metadata": {},
     "output_type": "execute_result"
    }
   ],
   "source": [
    "m = folium.Map(\n",
    "    location=[56.1759, 10.6016],\n",
    "    tiles=\"cartodbpositron\",\n",
    "    zoom_start=7,\n",
    ")\n",
    "folium.GeoJson(query.geojson, name=\"geojson\").add_to(m)\n",
    "folium.LayerControl().add_to(m)\n",
    "m"
   ],
   "metadata": {
    "collapsed": false,
    "pycharm": {
     "name": "#%%\n"
    }
   }
  }
 ],
 "metadata": {
  "kernelspec": {
   "display_name": "Python 3",
   "language": "python",
   "name": "python3"
  },
  "language_info": {
   "codemirror_mode": {
    "name": "ipython",
    "version": 2
   },
   "file_extension": ".py",
   "mimetype": "text/x-python",
   "name": "python",
   "nbconvert_exporter": "python",
   "pygments_lexer": "ipython2",
   "version": "2.7.6"
  }
 },
 "nbformat": 4,
 "nbformat_minor": 0
}