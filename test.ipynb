{
 "cells": [
  {
   "cell_type": "markdown",
   "source": [
    "Hej hej test"
   ],
   "metadata": {
    "collapsed": false,
    "pycharm": {
     "name": "#%% md\n"
    }
   }
  },
  {
   "cell_type": "code",
   "execution_count": 12,
   "outputs": [],
   "source": [
    "# %pip install --index-url https://test.pypi.org/simple/ --no-deps gc2-python-client\n",
    "import gc2\n",
    "from pandas import DataFrame, concat\n",
    "import tabulate\n",
    "import json\n",
    "import folium"
   ],
   "metadata": {
    "collapsed": false,
    "pycharm": {
     "name": "#%%\n"
    }
   }
  },
  {
   "cell_type": "code",
   "execution_count": 13,
   "outputs": [],
   "source": [
    "local = gc2.Gc2(\"https://dk.gc2.io\")\n",
    "# local = gc2.Gc2(\"http://127.0.0.1:8080\")\n",
    "local.set_authentication(user=\"dk_test\", pw=\"Pwd1234!\", db=\"dk\")\n",
    "# local.set_authentication(user=\"mydb\", pw=\"hawk2000\", db=\"mydb\")\n"
   ],
   "metadata": {
    "collapsed": false,
    "pycharm": {
     "name": "#%%\n"
    }
   }
  },
  {
   "cell_type": "code",
   "execution_count": 14,
   "outputs": [
    {
     "data": {
      "text/plain": "'<table>\\n<tbody>\\n<tr><td>ejerlavsnavn               </td><td>matrikelnummer</td><td>the_geom</td></tr>\\n<tr><td>Flade, Frederikshavn Jorder</td><td>26cf          </td><td>        </td></tr>\\n<tr><td>Flade, Frederikshavn Jorder</td><td>21bh          </td><td>        </td></tr>\\n<tr><td>Flade, Frederikshavn Jorder</td><td>21bk          </td><td>        </td></tr>\\n<tr><td>Flade, Frederikshavn Jorder</td><td>26bb          </td><td>        </td></tr>\\n<tr><td>Flade, Frederikshavn Jorder</td><td>26da          </td><td>        </td></tr>\\n<tr><td>Flade, Frederikshavn Jorder</td><td>18az          </td><td>        </td></tr>\\n<tr><td>Flade, Frederikshavn Jorder</td><td>26æ           </td><td>        </td></tr>\\n<tr><td>Flade, Frederikshavn Jorder</td><td>26gu          </td><td>        </td></tr>\\n<tr><td>Flade, Frederikshavn Jorder</td><td>26o           </td><td>        </td></tr>\\n<tr><td>Flade, Frederikshavn Jorder</td><td>21af          </td><td>        </td></tr>\\n</tbody>\\n</table>'",
      "text/html": "<table>\n<tbody>\n<tr><td>ejerlavsnavn               </td><td>matrikelnummer</td><td>the_geom</td></tr>\n<tr><td>Flade, Frederikshavn Jorder</td><td>26cf          </td><td>        </td></tr>\n<tr><td>Flade, Frederikshavn Jorder</td><td>21bh          </td><td>        </td></tr>\n<tr><td>Flade, Frederikshavn Jorder</td><td>21bk          </td><td>        </td></tr>\n<tr><td>Flade, Frederikshavn Jorder</td><td>26bb          </td><td>        </td></tr>\n<tr><td>Flade, Frederikshavn Jorder</td><td>26da          </td><td>        </td></tr>\n<tr><td>Flade, Frederikshavn Jorder</td><td>18az          </td><td>        </td></tr>\n<tr><td>Flade, Frederikshavn Jorder</td><td>26æ           </td><td>        </td></tr>\n<tr><td>Flade, Frederikshavn Jorder</td><td>26gu          </td><td>        </td></tr>\n<tr><td>Flade, Frederikshavn Jorder</td><td>26o           </td><td>        </td></tr>\n<tr><td>Flade, Frederikshavn Jorder</td><td>21af          </td><td>        </td></tr>\n</tbody>\n</table>"
     },
     "execution_count": 14,
     "metadata": {},
     "output_type": "execute_result"
    }
   ],
   "source": [
    "query = gc2.Sql(local)\n",
    "query.run(\"select ejerlavsnavn, matrikelnummer, the_geom from matrikel.jordstykke limit 10\")\n",
    "# query.table\n",
    "tabulate.tabulate(query.table,  tablefmt='html')\n"
   ],
   "metadata": {
    "collapsed": false,
    "pycharm": {
     "name": "#%%\n"
    }
   }
  },
  {
   "cell_type": "code",
   "execution_count": 15,
   "outputs": [
    {
     "data": {
      "text/plain": "<folium.folium.Map at 0x7f9a2180dea0>",
      "text/html": "<div style=\"width:100%;\"><div style=\"position:relative;width:100%;height:0;padding-bottom:60%;\"><span style=\"color:#565656\">Make this Notebook Trusted to load map: File -> Trust Notebook</span><iframe srcdoc=\"&lt;!DOCTYPE html&gt;\n&lt;head&gt;    \n    &lt;meta http-equiv=&quot;content-type&quot; content=&quot;text/html; charset=UTF-8&quot; /&gt;\n    \n        &lt;script&gt;\n            L_NO_TOUCH = false;\n            L_DISABLE_3D = false;\n        &lt;/script&gt;\n    \n    &lt;style&gt;html, body {width: 100%;height: 100%;margin: 0;padding: 0;}&lt;/style&gt;\n    &lt;style&gt;#map {position:absolute;top:0;bottom:0;right:0;left:0;}&lt;/style&gt;\n    &lt;script src=&quot;https://cdn.jsdelivr.net/npm/leaflet@1.6.0/dist/leaflet.js&quot;&gt;&lt;/script&gt;\n    &lt;script src=&quot;https://code.jquery.com/jquery-1.12.4.min.js&quot;&gt;&lt;/script&gt;\n    &lt;script src=&quot;https://maxcdn.bootstrapcdn.com/bootstrap/3.2.0/js/bootstrap.min.js&quot;&gt;&lt;/script&gt;\n    &lt;script src=&quot;https://cdnjs.cloudflare.com/ajax/libs/Leaflet.awesome-markers/2.0.2/leaflet.awesome-markers.js&quot;&gt;&lt;/script&gt;\n    &lt;link rel=&quot;stylesheet&quot; href=&quot;https://cdn.jsdelivr.net/npm/leaflet@1.6.0/dist/leaflet.css&quot;/&gt;\n    &lt;link rel=&quot;stylesheet&quot; href=&quot;https://maxcdn.bootstrapcdn.com/bootstrap/3.2.0/css/bootstrap.min.css&quot;/&gt;\n    &lt;link rel=&quot;stylesheet&quot; href=&quot;https://maxcdn.bootstrapcdn.com/bootstrap/3.2.0/css/bootstrap-theme.min.css&quot;/&gt;\n    &lt;link rel=&quot;stylesheet&quot; href=&quot;https://maxcdn.bootstrapcdn.com/font-awesome/4.6.3/css/font-awesome.min.css&quot;/&gt;\n    &lt;link rel=&quot;stylesheet&quot; href=&quot;https://cdnjs.cloudflare.com/ajax/libs/Leaflet.awesome-markers/2.0.2/leaflet.awesome-markers.css&quot;/&gt;\n    &lt;link rel=&quot;stylesheet&quot; href=&quot;https://cdn.jsdelivr.net/gh/python-visualization/folium/folium/templates/leaflet.awesome.rotate.min.css&quot;/&gt;\n    \n            &lt;meta name=&quot;viewport&quot; content=&quot;width=device-width,\n                initial-scale=1.0, maximum-scale=1.0, user-scalable=no&quot; /&gt;\n            &lt;style&gt;\n                #map_89754404caadf8c5867ba8f0e324bfc0 {\n                    position: relative;\n                    width: 100.0%;\n                    height: 100.0%;\n                    left: 0.0%;\n                    top: 0.0%;\n                }\n            &lt;/style&gt;\n        \n&lt;/head&gt;\n&lt;body&gt;    \n    \n            &lt;div class=&quot;folium-map&quot; id=&quot;map_89754404caadf8c5867ba8f0e324bfc0&quot; &gt;&lt;/div&gt;\n        \n&lt;/body&gt;\n&lt;script&gt;    \n    \n            var map_89754404caadf8c5867ba8f0e324bfc0 = L.map(\n                &quot;map_89754404caadf8c5867ba8f0e324bfc0&quot;,\n                {\n                    center: [56.1759, 10.6016],\n                    crs: L.CRS.EPSG3857,\n                    zoom: 7,\n                    zoomControl: true,\n                    preferCanvas: false,\n                }\n            );\n\n            \n\n        \n    \n            var tile_layer_6808ed60bbba96b2f71d61a8e2ffd64e = L.tileLayer(\n                &quot;https://cartodb-basemaps-{s}.global.ssl.fastly.net/light_all/{z}/{x}/{y}.png&quot;,\n                {&quot;attribution&quot;: &quot;\\u0026copy; \\u003ca href=\\&quot;http://www.openstreetmap.org/copyright\\&quot;\\u003eOpenStreetMap\\u003c/a\\u003e contributors \\u0026copy; \\u003ca href=\\&quot;http://cartodb.com/attributions\\&quot;\\u003eCartoDB\\u003c/a\\u003e, CartoDB \\u003ca href =\\&quot;http://cartodb.com/attributions\\&quot;\\u003eattributions\\u003c/a\\u003e&quot;, &quot;detectRetina&quot;: false, &quot;maxNativeZoom&quot;: 18, &quot;maxZoom&quot;: 18, &quot;minZoom&quot;: 0, &quot;noWrap&quot;: false, &quot;opacity&quot;: 1, &quot;subdomains&quot;: &quot;abc&quot;, &quot;tms&quot;: false}\n            ).addTo(map_89754404caadf8c5867ba8f0e324bfc0);\n        \n    \n\n        function geo_json_df229ca9ceb687631e78d4995b093911_onEachFeature(feature, layer) {\n            layer.on({\n            });\n        };\n        var geo_json_df229ca9ceb687631e78d4995b093911 = L.geoJson(null, {\n                onEachFeature: geo_json_df229ca9ceb687631e78d4995b093911_onEachFeature,\n            \n        });\n\n        function geo_json_df229ca9ceb687631e78d4995b093911_add (data) {\n            geo_json_df229ca9ceb687631e78d4995b093911\n                .addData(data)\n                .addTo(map_89754404caadf8c5867ba8f0e324bfc0);\n        }\n            geo_json_df229ca9ceb687631e78d4995b093911_add({&quot;_execution_time&quot;: 0.036, &quot;auth_check&quot;: {&quot;auth_level&quot;: &quot;Write&quot;, &quot;checked_relations&quot;: [&quot;matrikel.jordstykke&quot;], &quot;privileges&quot;: null, &quot;session&quot;: null, &quot;success&quot;: true}, &quot;features&quot;: [{&quot;geometry&quot;: {&quot;coordinates&quot;: [[[10.5160414277152, 57.4403639565575], [10.5160742307501, 57.4404021490269], [10.516158563261, 57.4405002570213], [10.5156038908822, 57.4406375759242], [10.5154876851676, 57.4405019645447], [10.5160414277152, 57.4403639565575]]], &quot;type&quot;: &quot;Polygon&quot;}, &quot;properties&quot;: {&quot;ejerlavsnavn&quot;: &quot;Flade, Frederikshavn Jorder&quot;, &quot;matrikelnummer&quot;: &quot;26cf&quot;}, &quot;type&quot;: &quot;Feature&quot;}, {&quot;geometry&quot;: {&quot;coordinates&quot;: [[[10.5249873738476, 57.4461429688207], [10.5249793092618, 57.4464636849613], [10.5246966644001, 57.4464599167379], [10.5247086780595, 57.4462889012383], [10.5247193462027, 57.4461384128993], [10.5249873738476, 57.4461429688207]]], &quot;type&quot;: &quot;Polygon&quot;}, &quot;properties&quot;: {&quot;ejerlavsnavn&quot;: &quot;Flade, Frederikshavn Jorder&quot;, &quot;matrikelnummer&quot;: &quot;21bh&quot;}, &quot;type&quot;: &quot;Feature&quot;}, {&quot;geometry&quot;: {&quot;coordinates&quot;: [[[10.5255554466815, 57.4461526258174], [10.5255433281289, 57.4464739121753], [10.5252520378527, 57.4464686236898], [10.5252631390297, 57.4461476551508], [10.5255554466815, 57.4461526258174]]], &quot;type&quot;: &quot;Polygon&quot;}, &quot;properties&quot;: {&quot;ejerlavsnavn&quot;: &quot;Flade, Frederikshavn Jorder&quot;, &quot;matrikelnummer&quot;: &quot;21bk&quot;}, &quot;type&quot;: &quot;Feature&quot;}, {&quot;geometry&quot;: {&quot;coordinates&quot;: [[[10.516458935963, 57.4400405167557], [10.5158860801472, 57.440183131802], [10.5158065770318, 57.4400905716766], [10.5156973536743, 57.4399634294488], [10.5162711548407, 57.4398203726232], [10.516458935963, 57.4400405167557]]], &quot;type&quot;: &quot;Polygon&quot;}, &quot;properties&quot;: {&quot;ejerlavsnavn&quot;: &quot;Flade, Frederikshavn Jorder&quot;, &quot;matrikelnummer&quot;: &quot;26bb&quot;}, &quot;type&quot;: &quot;Feature&quot;}, {&quot;geometry&quot;: {&quot;coordinates&quot;: [[[10.5136686858027, 57.4402077146764], [10.5135036347845, 57.4400163393884], [10.5136210830263, 57.4398417770335], [10.5140028329823, 57.4397642853921], [10.5142181731873, 57.4400682834256], [10.5136686858027, 57.4402077146764]]], &quot;type&quot;: &quot;Polygon&quot;}, &quot;properties&quot;: {&quot;ejerlavsnavn&quot;: &quot;Flade, Frederikshavn Jorder&quot;, &quot;matrikelnummer&quot;: &quot;26da&quot;}, &quot;type&quot;: &quot;Feature&quot;}, {&quot;geometry&quot;: {&quot;coordinates&quot;: [[[10.5177693197727, 57.4415203940095], [10.5184341803114, 57.4412238143336], [10.518574437717, 57.4413146885632], [10.518727482845, 57.4412388957705], [10.518830835611, 57.4413024353092], [10.5188243211346, 57.4416538042186], [10.5187640316843, 57.4416809711379], [10.5185947199297, 57.4415709335326], [10.518113640153, 57.4417863925709], [10.517769164413, 57.4415625047213], [10.5178075534302, 57.4415452150797], [10.5177693197727, 57.4415203940095]]], &quot;type&quot;: &quot;Polygon&quot;}, &quot;properties&quot;: {&quot;ejerlavsnavn&quot;: &quot;Flade, Frederikshavn Jorder&quot;, &quot;matrikelnummer&quot;: &quot;18az&quot;}, &quot;type&quot;: &quot;Feature&quot;}, {&quot;geometry&quot;: {&quot;coordinates&quot;: [[[10.514315904424, 57.4365948060973], [10.5145499351332, 57.4365484026936], [10.5147600185766, 57.4368577816492], [10.5145650723118, 57.4368961870068], [10.5144961510613, 57.4368752106297], [10.514315904424, 57.4365948060973]]], &quot;type&quot;: &quot;Polygon&quot;}, &quot;properties&quot;: {&quot;ejerlavsnavn&quot;: &quot;Flade, Frederikshavn Jorder&quot;, &quot;matrikelnummer&quot;: &quot;26\\u00e6&quot;}, &quot;type&quot;: &quot;Feature&quot;}, {&quot;geometry&quot;: {&quot;coordinates&quot;: [[[10.5149111202158, 57.4383813800955], [10.5148107710035, 57.4382357578184], [10.5148475956624, 57.4382306524327], [10.5151090667492, 57.4381792015633], [10.5153090017288, 57.4384873719671], [10.5152725585159, 57.4385319314073], [10.5150422031512, 57.4385716076481], [10.5149111202158, 57.4383813800955]]], &quot;type&quot;: &quot;Polygon&quot;}, &quot;properties&quot;: {&quot;ejerlavsnavn&quot;: &quot;Flade, Frederikshavn Jorder&quot;, &quot;matrikelnummer&quot;: &quot;26gu&quot;}, &quot;type&quot;: &quot;Feature&quot;}, {&quot;geometry&quot;: {&quot;coordinates&quot;: [[[10.5150769479483, 57.4376835262889], [10.5149956070633, 57.4376615944184], [10.5147976516859, 57.4373539837091], [10.5150398205573, 57.4373064664061], [10.5152700887441, 57.4376452856233], [10.5150769479483, 57.4376835262889]]], &quot;type&quot;: &quot;Polygon&quot;}, &quot;properties&quot;: {&quot;ejerlavsnavn&quot;: &quot;Flade, Frederikshavn Jorder&quot;, &quot;matrikelnummer&quot;: &quot;26o&quot;}, &quot;type&quot;: &quot;Feature&quot;}, {&quot;geometry&quot;: {&quot;coordinates&quot;: [[[10.5257448819505, 57.446155840313], [10.5258995565722, 57.4464803634764], [10.5255433281289, 57.4464739121753], [10.5255554466815, 57.4461526258174], [10.5257448819505, 57.446155840313]]], &quot;type&quot;: &quot;Polygon&quot;}, &quot;properties&quot;: {&quot;ejerlavsnavn&quot;: &quot;Flade, Frederikshavn Jorder&quot;, &quot;matrikelnummer&quot;: &quot;21af&quot;}, &quot;type&quot;: &quot;Feature&quot;}], &quot;forGrid&quot;: [{&quot;dataIndex&quot;: &quot;ejerlavsnavn&quot;, &quot;header&quot;: &quot;ejerlavsnavn&quot;, &quot;type&quot;: &quot;character varying&quot;, &quot;typeObj&quot;: null}, {&quot;dataIndex&quot;: &quot;matrikelnummer&quot;, &quot;header&quot;: &quot;matrikelnummer&quot;, &quot;type&quot;: &quot;character varying&quot;, &quot;typeObj&quot;: null}, {&quot;dataIndex&quot;: &quot;the_geom&quot;, &quot;header&quot;: &quot;the_geom&quot;, &quot;type&quot;: &quot;geometry&quot;, &quot;typeObj&quot;: null}], &quot;forStore&quot;: [{&quot;name&quot;: &quot;ejerlavsnavn&quot;, &quot;type&quot;: &quot;character varying&quot;}, {&quot;name&quot;: &quot;matrikelnummer&quot;, &quot;type&quot;: &quot;character varying&quot;}, {&quot;name&quot;: &quot;the_geom&quot;, &quot;type&quot;: &quot;geometry&quot;}], &quot;peak_memory_usage&quot;: &quot;2074 KB&quot;, &quot;success&quot;: true, &quot;type&quot;: &quot;FeatureCollection&quot;});\n\n        \n    \n            var layer_control_c9ec6fed2f9d48b76e69277e4f33f3aa = {\n                base_layers : {\n                    &quot;cartodbpositron&quot; : tile_layer_6808ed60bbba96b2f71d61a8e2ffd64e,\n                },\n                overlays :  {\n                    &quot;geojson&quot; : geo_json_df229ca9ceb687631e78d4995b093911,\n                },\n            };\n            L.control.layers(\n                layer_control_c9ec6fed2f9d48b76e69277e4f33f3aa.base_layers,\n                layer_control_c9ec6fed2f9d48b76e69277e4f33f3aa.overlays,\n                {&quot;autoZIndex&quot;: true, &quot;collapsed&quot;: true, &quot;position&quot;: &quot;topright&quot;}\n            ).addTo(map_89754404caadf8c5867ba8f0e324bfc0);\n        \n&lt;/script&gt;\" style=\"position:absolute;width:100%;height:100%;left:0;top:0;border:none !important;\" allowfullscreen webkitallowfullscreen mozallowfullscreen></iframe></div></div>"
     },
     "execution_count": 15,
     "metadata": {},
     "output_type": "execute_result"
    }
   ],
   "source": [
    "m = folium.Map(\n",
    "    location=[56.1759, 10.6016],\n",
    "    tiles=\"cartodbpositron\",\n",
    "    zoom_start=7,\n",
    ")\n",
    "folium.GeoJson(query.geojson, name=\"geojson\").add_to(m)\n",
    "folium.LayerControl().add_to(m)\n",
    "m"
   ],
   "metadata": {
    "collapsed": false,
    "pycharm": {
     "name": "#%%\n"
    }
   }
  }
 ],
 "metadata": {
  "kernelspec": {
   "display_name": "Python 3",
   "language": "python",
   "name": "python3"
  },
  "language_info": {
   "codemirror_mode": {
    "name": "ipython",
    "version": 2
   },
   "file_extension": ".py",
   "mimetype": "text/x-python",
   "name": "python",
   "nbconvert_exporter": "python",
   "pygments_lexer": "ipython2",
   "version": "2.7.6"
  }
 },
 "nbformat": 4,
 "nbformat_minor": 0
}