{
 "cells": [
  {
   "cell_type": "markdown",
   "source": [
    "Hej hej test"
   ],
   "metadata": {
    "collapsed": false,
    "pycharm": {
     "name": "#%% md\n"
    }
   }
  },
  {
   "cell_type": "code",
   "execution_count": 2,
   "outputs": [
    {
     "name": "stdout",
     "output_type": "stream",
     "text": [
      "Looking in indexes: https://test.pypi.org/simple/\r\n",
      "Requirement already satisfied: gc2-python-client in /home/mh/Source/gc2-python-client (2022.8.0)\r\n",
      "\u001B[33mWARNING: You are using pip version 21.3.1; however, version 22.2.2 is available.\r\n",
      "You should consider upgrading via the '/home/mh/Source/gc2-python-client/venv/bin/python -m pip install --upgrade pip' command.\u001B[0m\r\n",
      "Note: you may need to restart the kernel to use updated packages.\n"
     ]
    }
   ],
   "source": [
    "%pip install --index-url https://test.pypi.org/simple/ --no-deps gc2-python-client\n",
    "import gc2\n",
    "from pandas import DataFrame, concat\n",
    "import tabulate\n",
    "import json\n",
    "import folium\n",
    "\n"
   ],
   "metadata": {
    "collapsed": false,
    "pycharm": {
     "name": "#%%\n"
    }
   }
  },
  {
   "cell_type": "code",
   "execution_count": 3,
   "outputs": [],
   "source": [
    "local = gc2.Gc2(\"https://dk.gc2.io\")\n",
    "# local = gc2.Gc2(\"http://127.0.0.1:8080\")\n",
    "local.set_authentication(user=\"dk\", pw=\"NSIa1u7h\", db=\"dk\")\n",
    "# local.set_authentication(user=\"mydb\", pw=\"hawk2000\", db=\"mydb\")\n"
   ],
   "metadata": {
    "collapsed": false,
    "pycharm": {
     "name": "#%%\n"
    }
   }
  },
  {
   "cell_type": "code",
   "execution_count": 4,
   "outputs": [
    {
     "data": {
      "text/plain": "'<table>\\n<tbody>\\n<tr><td>ejerlavsnavn          </td><td>matrikelnummer</td><td>the_geom</td></tr>\\n<tr><td>Tåstrup, Holbæk Jorder</td><td>4ep           </td><td>        </td></tr>\\n<tr><td>Tåstrup, Holbæk Jorder</td><td>4ei           </td><td>        </td></tr>\\n<tr><td>Tåstrup, Holbæk Jorder</td><td>4iq           </td><td>        </td></tr>\\n<tr><td>Tåstrup, Holbæk Jorder</td><td>2ae           </td><td>        </td></tr>\\n<tr><td>Tåstrup, Holbæk Jorder</td><td>2ai           </td><td>        </td></tr>\\n<tr><td>Tåstrup, Holbæk Jorder</td><td>8             </td><td>        </td></tr>\\n<tr><td>Tåstrup, Holbæk Jorder</td><td>7000æ         </td><td>        </td></tr>\\n<tr><td>Tåstrup, Holbæk Jorder</td><td>17            </td><td>        </td></tr>\\n<tr><td>Tåstrup, Holbæk Jorder</td><td>3ei           </td><td>        </td></tr>\\n<tr><td>Tåstrup, Holbæk Jorder</td><td>3em           </td><td>        </td></tr>\\n</tbody>\\n</table>'",
      "text/html": "<table>\n<tbody>\n<tr><td>ejerlavsnavn          </td><td>matrikelnummer</td><td>the_geom</td></tr>\n<tr><td>Tåstrup, Holbæk Jorder</td><td>4ep           </td><td>        </td></tr>\n<tr><td>Tåstrup, Holbæk Jorder</td><td>4ei           </td><td>        </td></tr>\n<tr><td>Tåstrup, Holbæk Jorder</td><td>4iq           </td><td>        </td></tr>\n<tr><td>Tåstrup, Holbæk Jorder</td><td>2ae           </td><td>        </td></tr>\n<tr><td>Tåstrup, Holbæk Jorder</td><td>2ai           </td><td>        </td></tr>\n<tr><td>Tåstrup, Holbæk Jorder</td><td>8             </td><td>        </td></tr>\n<tr><td>Tåstrup, Holbæk Jorder</td><td>7000æ         </td><td>        </td></tr>\n<tr><td>Tåstrup, Holbæk Jorder</td><td>17            </td><td>        </td></tr>\n<tr><td>Tåstrup, Holbæk Jorder</td><td>3ei           </td><td>        </td></tr>\n<tr><td>Tåstrup, Holbæk Jorder</td><td>3em           </td><td>        </td></tr>\n</tbody>\n</table>"
     },
     "execution_count": 4,
     "metadata": {},
     "output_type": "execute_result"
    }
   ],
   "source": [
    "query = gc2.Sql(local)\n",
    "query.run(\"select ejerlavsnavn, matrikelnummer, the_geom from matrikel.jordstykke limit 10\")\n",
    "# query.table\n",
    "tabulate.tabulate(query.table,  tablefmt='html')\n"
   ],
   "metadata": {
    "collapsed": false,
    "pycharm": {
     "name": "#%%\n"
    }
   }
  },
  {
   "cell_type": "code",
   "execution_count": null,
   "outputs": [],
   "source": [
    "m = folium.Map(\n",
    "    location=[56.1759, 10.6016],\n",
    "    tiles=\"cartodbpositron\",\n",
    "    zoom_start=7,\n",
    ")\n",
    "folium.GeoJson(query.geojson, name=\"geojson\").add_to(m)\n",
    "folium.LayerControl().add_to(m)\n",
    "m"
   ],
   "metadata": {
    "collapsed": false,
    "pycharm": {
     "name": "#%%\n"
    }
   }
  }
 ],
 "metadata": {
  "kernelspec": {
   "display_name": "Python 3",
   "language": "python",
   "name": "python3"
  },
  "language_info": {
   "codemirror_mode": {
    "name": "ipython",
    "version": 2
   },
   "file_extension": ".py",
   "mimetype": "text/x-python",
   "name": "python",
   "nbconvert_exporter": "python",
   "pygments_lexer": "ipython2",
   "version": "2.7.6"
  }
 },
 "nbformat": 4,
 "nbformat_minor": 0
}