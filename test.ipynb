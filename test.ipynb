{
 "cells": [
  {
   "cell_type": "markdown",
   "metadata": {
    "collapsed": false,
    "pycharm": {
     "name": "#%% md\n"
    }
   },
   "source": [
    "# GC2 Jupyter Notebook eksempel\n",
    "\n",
    "Jupyter Notebook er et webbaseret interaktivt analyse-miljø til oprettelse af notebook dokumenter. Et Jupyter Notebook-dokument er en skal, der indeholder en ordnet liste over input/outputceller, som kan indeholde kode, tekst (ved hjælp af Markdown), matematik, plots og media.   \n",
    "\n",
    "Denne Notebook er et eksempel på brugen af databasen dk.gc2.io, der indeholde mange offentlige datasæt - herunder matrikelkortet, danske adresser, grukos, GeoDK og mange flere.  \n",
    "\n",
    "Der bruges gc2-python-client, som gør det nemt at logge på, køre forespørgelser i databasen og få output formatteret. Til visualisering anvendes bl.a. Pandas til tabeller og Folium til kort."
   ]
  },
  {
   "cell_type": "markdown",
   "metadata": {},
   "source": [
    "## Install af gc2-python-client\n",
    "Først skal gc2-python-client installeres. Det gøre med en Background processes. Dette er ikke kode, men en måde hvorpå, man kan installere Python pakker på."
   ]
  },
  {
   "cell_type": "code",
   "execution_count": null,
   "metadata": {
    "collapsed": false,
    "pycharm": {
     "name": "#%%\n"
    }
   },
   "outputs": [],
   "source": [
    "!pip install --index-url https://test.pypi.org/simple/ gc2-python-client"
   ]
  },
  {
   "cell_type": "markdown",
   "metadata": {},
   "source": [
    "Derefter kan der kodes. Først importeres de nødvendige pakker."
   ]
  },
  {
   "cell_type": "code",
   "execution_count": 4,
   "metadata": {
    "collapsed": false,
    "pycharm": {
     "name": "#%%\n"
    }
   },
   "outputs": [],
   "source": [
    "import gc2\n",
    "import folium\n",
    "import pandas"
   ]
  },
  {
   "cell_type": "markdown",
   "metadata": {},
   "source": [
    "Der initialiseres et Gc2 object, som gør det muligt at autentificere en bruger."
   ]
  },
  {
   "cell_type": "code",
   "execution_count": 5,
   "metadata": {
    "collapsed": false,
    "pycharm": {
     "name": "#%%\n"
    }
   },
   "outputs": [],
   "source": [
    "local = gc2.Gc2(\"https://dk.gc2.io\")\n",
    "local.set_authentication(user=\"dk_test\", pw=\"Pwd1234!\", db=\"dk\")"
   ]
  },
  {
   "cell_type": "markdown",
   "metadata": {},
   "source": [
    "Så initialiseres et Sql objekt, som gør det muligt at køre SQL statements"
   ]
  },
  {
   "cell_type": "code",
   "execution_count": 10,
   "metadata": {
    "collapsed": false,
    "pycharm": {
     "name": "#%%\n"
    }
   },
   "outputs": [],
   "source": [
    "sql = gc2.Sql(local)\n",
    "statement = \"select ejerlavsnavn, matrikelnummer, 1 as hej, the_geom from matrikel.jordstykke limit 6\"\n",
    "sql.run(statement)\n"
   ]
  },
  {
   "cell_type": "markdown",
   "metadata": {},
   "source": [
    "Når statement er kørt kan resultatet bruges. Resultat findes som en to-dimensionel \"list\" (en tabel) og kan bruges direkte i Pandas. Der er også en \"list\" med feltoverskrifter. "
   ]
  },
  {
   "cell_type": "code",
   "execution_count": 11,
   "metadata": {},
   "outputs": [
    {
     "data": {
      "text/html": [
       "<div>\n",
       "<style scoped>\n",
       "    .dataframe tbody tr th:only-of-type {\n",
       "        vertical-align: middle;\n",
       "    }\n",
       "\n",
       "    .dataframe tbody tr th {\n",
       "        vertical-align: top;\n",
       "    }\n",
       "\n",
       "    .dataframe thead th {\n",
       "        text-align: right;\n",
       "    }\n",
       "</style>\n",
       "<table border=\"1\" class=\"dataframe\">\n",
       "  <thead>\n",
       "    <tr style=\"text-align: right;\">\n",
       "      <th></th>\n",
       "      <th>ejerlavsnavn</th>\n",
       "      <th>matrikelnummer</th>\n",
       "      <th>hej</th>\n",
       "    </tr>\n",
       "  </thead>\n",
       "  <tbody>\n",
       "    <tr>\n",
       "      <th>0</th>\n",
       "      <td>Kgs. Lyngby By, Kgs. Lyngby</td>\n",
       "      <td>9u</td>\n",
       "      <td>1</td>\n",
       "    </tr>\n",
       "    <tr>\n",
       "      <th>1</th>\n",
       "      <td>Kgs. Lyngby By, Kgs. Lyngby</td>\n",
       "      <td>9m</td>\n",
       "      <td>1</td>\n",
       "    </tr>\n",
       "    <tr>\n",
       "      <th>2</th>\n",
       "      <td>Kgs. Lyngby By, Kgs. Lyngby</td>\n",
       "      <td>9aq</td>\n",
       "      <td>1</td>\n",
       "    </tr>\n",
       "    <tr>\n",
       "      <th>3</th>\n",
       "      <td>Kgs. Lyngby By, Kgs. Lyngby</td>\n",
       "      <td>2ca</td>\n",
       "      <td>1</td>\n",
       "    </tr>\n",
       "    <tr>\n",
       "      <th>4</th>\n",
       "      <td>Kgs. Lyngby By, Kgs. Lyngby</td>\n",
       "      <td>7000z</td>\n",
       "      <td>1</td>\n",
       "    </tr>\n",
       "    <tr>\n",
       "      <th>5</th>\n",
       "      <td>Kgs. Lyngby By, Christians</td>\n",
       "      <td>4c</td>\n",
       "      <td>1</td>\n",
       "    </tr>\n",
       "  </tbody>\n",
       "</table>\n",
       "</div>"
      ],
      "text/plain": [
       "                  ejerlavsnavn matrikelnummer  hej\n",
       "0  Kgs. Lyngby By, Kgs. Lyngby             9u    1\n",
       "1  Kgs. Lyngby By, Kgs. Lyngby             9m    1\n",
       "2  Kgs. Lyngby By, Kgs. Lyngby            9aq    1\n",
       "3  Kgs. Lyngby By, Kgs. Lyngby            2ca    1\n",
       "4  Kgs. Lyngby By, Kgs. Lyngby          7000z    1\n",
       "5   Kgs. Lyngby By, Christians             4c    1"
      ]
     },
     "execution_count": 11,
     "metadata": {},
     "output_type": "execute_result"
    }
   ],
   "source": [
    "pandas.DataFrame(data=sql.rows, columns=sql.columns)"
   ]
  },
  {
   "cell_type": "markdown",
   "metadata": {},
   "source": [
    "Resultatet findes også som GeoJSON, der kan bruges i et Folium kort."
   ]
  },
  {
   "cell_type": "code",
   "execution_count": 13,
   "metadata": {
    "collapsed": false,
    "pycharm": {
     "name": "#%%\n"
    }
   },
   "outputs": [
    {
     "data": {
      "text/html": [
       "<div style=\"width:100%;\"><div style=\"position:relative;width:100%;height:0;padding-bottom:60%;\"><span style=\"color:#565656\">Make this Notebook Trusted to load map: File -> Trust Notebook</span><iframe srcdoc=\"&lt;!DOCTYPE html&gt;\n",
       "&lt;head&gt;    \n",
       "    &lt;meta http-equiv=&quot;content-type&quot; content=&quot;text/html; charset=UTF-8&quot; /&gt;\n",
       "    \n",
       "        &lt;script&gt;\n",
       "            L_NO_TOUCH = false;\n",
       "            L_DISABLE_3D = false;\n",
       "        &lt;/script&gt;\n",
       "    \n",
       "    &lt;style&gt;html, body {width: 100%;height: 100%;margin: 0;padding: 0;}&lt;/style&gt;\n",
       "    &lt;style&gt;#map {position:absolute;top:0;bottom:0;right:0;left:0;}&lt;/style&gt;\n",
       "    &lt;script src=&quot;https://cdn.jsdelivr.net/npm/leaflet@1.6.0/dist/leaflet.js&quot;&gt;&lt;/script&gt;\n",
       "    &lt;script src=&quot;https://code.jquery.com/jquery-1.12.4.min.js&quot;&gt;&lt;/script&gt;\n",
       "    &lt;script src=&quot;https://maxcdn.bootstrapcdn.com/bootstrap/3.2.0/js/bootstrap.min.js&quot;&gt;&lt;/script&gt;\n",
       "    &lt;script src=&quot;https://cdnjs.cloudflare.com/ajax/libs/Leaflet.awesome-markers/2.0.2/leaflet.awesome-markers.js&quot;&gt;&lt;/script&gt;\n",
       "    &lt;link rel=&quot;stylesheet&quot; href=&quot;https://cdn.jsdelivr.net/npm/leaflet@1.6.0/dist/leaflet.css&quot;/&gt;\n",
       "    &lt;link rel=&quot;stylesheet&quot; href=&quot;https://maxcdn.bootstrapcdn.com/bootstrap/3.2.0/css/bootstrap.min.css&quot;/&gt;\n",
       "    &lt;link rel=&quot;stylesheet&quot; href=&quot;https://maxcdn.bootstrapcdn.com/bootstrap/3.2.0/css/bootstrap-theme.min.css&quot;/&gt;\n",
       "    &lt;link rel=&quot;stylesheet&quot; href=&quot;https://maxcdn.bootstrapcdn.com/font-awesome/4.6.3/css/font-awesome.min.css&quot;/&gt;\n",
       "    &lt;link rel=&quot;stylesheet&quot; href=&quot;https://cdnjs.cloudflare.com/ajax/libs/Leaflet.awesome-markers/2.0.2/leaflet.awesome-markers.css&quot;/&gt;\n",
       "    &lt;link rel=&quot;stylesheet&quot; href=&quot;https://cdn.jsdelivr.net/gh/python-visualization/folium/folium/templates/leaflet.awesome.rotate.min.css&quot;/&gt;\n",
       "    \n",
       "            &lt;meta name=&quot;viewport&quot; content=&quot;width=device-width,\n",
       "                initial-scale=1.0, maximum-scale=1.0, user-scalable=no&quot; /&gt;\n",
       "            &lt;style&gt;\n",
       "                #map_56e84c1cf6e64ccd7c2b2dd35a9de244 {\n",
       "                    position: relative;\n",
       "                    width: 100.0%;\n",
       "                    height: 100.0%;\n",
       "                    left: 0.0%;\n",
       "                    top: 0.0%;\n",
       "                }\n",
       "            &lt;/style&gt;\n",
       "        \n",
       "&lt;/head&gt;\n",
       "&lt;body&gt;    \n",
       "    \n",
       "            &lt;div class=&quot;folium-map&quot; id=&quot;map_56e84c1cf6e64ccd7c2b2dd35a9de244&quot; &gt;&lt;/div&gt;\n",
       "        \n",
       "&lt;/body&gt;\n",
       "&lt;script&gt;    \n",
       "    \n",
       "            var map_56e84c1cf6e64ccd7c2b2dd35a9de244 = L.map(\n",
       "                &quot;map_56e84c1cf6e64ccd7c2b2dd35a9de244&quot;,\n",
       "                {\n",
       "                    center: [56.1759, 10.6016],\n",
       "                    crs: L.CRS.EPSG3857,\n",
       "                    zoom: 7,\n",
       "                    zoomControl: true,\n",
       "                    preferCanvas: false,\n",
       "                }\n",
       "            );\n",
       "\n",
       "            \n",
       "\n",
       "        \n",
       "    \n",
       "            var tile_layer_203effdae544ea6bf30b222032c5c4ef = L.tileLayer(\n",
       "                &quot;https://cartodb-basemaps-{s}.global.ssl.fastly.net/light_all/{z}/{x}/{y}.png&quot;,\n",
       "                {&quot;attribution&quot;: &quot;\\u0026copy; \\u003ca href=\\&quot;http://www.openstreetmap.org/copyright\\&quot;\\u003eOpenStreetMap\\u003c/a\\u003e contributors \\u0026copy; \\u003ca href=\\&quot;http://cartodb.com/attributions\\&quot;\\u003eCartoDB\\u003c/a\\u003e, CartoDB \\u003ca href =\\&quot;http://cartodb.com/attributions\\&quot;\\u003eattributions\\u003c/a\\u003e&quot;, &quot;detectRetina&quot;: false, &quot;maxNativeZoom&quot;: 18, &quot;maxZoom&quot;: 18, &quot;minZoom&quot;: 0, &quot;noWrap&quot;: false, &quot;opacity&quot;: 1, &quot;subdomains&quot;: &quot;abc&quot;, &quot;tms&quot;: false}\n",
       "            ).addTo(map_56e84c1cf6e64ccd7c2b2dd35a9de244);\n",
       "        \n",
       "    \n",
       "\n",
       "        function geo_json_858f63b9cb7aa5a51cab7440ecb74742_onEachFeature(feature, layer) {\n",
       "            layer.on({\n",
       "            });\n",
       "        };\n",
       "        var geo_json_858f63b9cb7aa5a51cab7440ecb74742 = L.geoJson(null, {\n",
       "                onEachFeature: geo_json_858f63b9cb7aa5a51cab7440ecb74742_onEachFeature,\n",
       "            \n",
       "        });\n",
       "\n",
       "        function geo_json_858f63b9cb7aa5a51cab7440ecb74742_add (data) {\n",
       "            geo_json_858f63b9cb7aa5a51cab7440ecb74742\n",
       "                .addData(data)\n",
       "                .addTo(map_56e84c1cf6e64ccd7c2b2dd35a9de244);\n",
       "        }\n",
       "            geo_json_858f63b9cb7aa5a51cab7440ecb74742_add({&quot;_execution_time&quot;: 0.652, &quot;auth_check&quot;: {&quot;auth_level&quot;: &quot;Write&quot;, &quot;checked_relations&quot;: [&quot;matrikel.jordstykke&quot;], &quot;privileges&quot;: null, &quot;session&quot;: null, &quot;success&quot;: true}, &quot;features&quot;: [{&quot;geometry&quot;: {&quot;coordinates&quot;: [[[12.5073029131575, 55.7775148714982], [12.5072930547418, 55.777486847952], [12.5072620638352, 55.7773985647816], [12.5076901935578, 55.7773721829454], [12.5077139367573, 55.7774871888971], [12.5073029131575, 55.7775148714982]]], &quot;type&quot;: &quot;Polygon&quot;}, &quot;properties&quot;: {&quot;ejerlavsnavn&quot;: &quot;Kgs. Lyngby By, Kgs. Lyngby&quot;, &quot;hej&quot;: 1, &quot;matrikelnummer&quot;: &quot;9u&quot;}, &quot;type&quot;: &quot;Feature&quot;}, {&quot;geometry&quot;: {&quot;coordinates&quot;: [[[12.5079375354885, 55.7768556335689], [12.5083339136864, 55.7769332076983], [12.5083009771206, 55.7770109718535], [12.50829197168, 55.7770087564962], [12.5082626968052, 55.7770555752821], [12.5082724728675, 55.7770574898886], [12.5082210278394, 55.7771346948541], [12.5084375062354, 55.7773075388897], [12.5082794872193, 55.777378653558], [12.5082250292381, 55.7773822775006], [12.5079327714557, 55.7774017045949], [12.5078297640717, 55.7769046857482], [12.5079375354885, 55.7768556335689]]], &quot;type&quot;: &quot;Polygon&quot;}, &quot;properties&quot;: {&quot;ejerlavsnavn&quot;: &quot;Kgs. Lyngby By, Kgs. Lyngby&quot;, &quot;hej&quot;: 1, &quot;matrikelnummer&quot;: &quot;9m&quot;}, &quot;type&quot;: &quot;Feature&quot;}, {&quot;geometry&quot;: {&quot;coordinates&quot;: [[[12.5071136747396, 55.7765931306808], [12.5071222249102, 55.7765780415638], [12.5075281073646, 55.776659527804], [12.5075682035233, 55.7767853779186], [12.5070609509383, 55.7766862955455], [12.5070876955158, 55.7766390008524], [12.5071136747396, 55.7765931306808]]], &quot;type&quot;: &quot;Polygon&quot;}, &quot;properties&quot;: {&quot;ejerlavsnavn&quot;: &quot;Kgs. Lyngby By, Kgs. Lyngby&quot;, &quot;hej&quot;: 1, &quot;matrikelnummer&quot;: &quot;9aq&quot;}, &quot;type&quot;: &quot;Feature&quot;}, {&quot;geometry&quot;: {&quot;coordinates&quot;: [[[12.5088888143771, 55.7688190904325], [12.5088890217152, 55.7687575468282], [12.5092893348131, 55.7684802274145], [12.5093019098491, 55.7684912961563], [12.5093186348695, 55.7685004479819], [12.5093192313465, 55.7687108405604], [12.5089128452474, 55.7688257676648], [12.5088888155405, 55.7688258429996], [12.5088888143771, 55.7688190904325]]], &quot;type&quot;: &quot;Polygon&quot;}, &quot;properties&quot;: {&quot;ejerlavsnavn&quot;: &quot;Kgs. Lyngby By, Kgs. Lyngby&quot;, &quot;hej&quot;: 1, &quot;matrikelnummer&quot;: &quot;2ca&quot;}, &quot;type&quot;: &quot;Feature&quot;}, {&quot;geometry&quot;: {&quot;coordinates&quot;: [[[12.5057380620165, 55.7741725378952], [12.505870630331, 55.7741584126186], [12.5059871806357, 55.774159706364], [12.5062930774215, 55.7741160487022], [12.5066015074471, 55.7740427270082], [12.5074947439544, 55.7738852194119], [12.5079469126573, 55.7738104765996], [12.5082803619401, 55.7737475762348], [12.5084556547283, 55.7736987701094], [12.5086930910729, 55.7736034463678], [12.508714577947, 55.7736227754485], [12.5087397086363, 55.7736453722019], [12.5085007796059, 55.7737413051462], [12.5083138147364, 55.7737933580738], [12.5079731659796, 55.7738576241119], [12.5075201631763, 55.7739324987377], [12.5066346508162, 55.7740886350033], [12.506318593245, 55.7741633524717], [12.5060060978246, 55.7742079628813], [12.5057538231687, 55.7742348482972], [12.5057380620165, 55.7741725378952]]], &quot;type&quot;: &quot;Polygon&quot;}, &quot;properties&quot;: {&quot;ejerlavsnavn&quot;: &quot;Kgs. Lyngby By, Kgs. Lyngby&quot;, &quot;hej&quot;: 1, &quot;matrikelnummer&quot;: &quot;7000z&quot;}, &quot;type&quot;: &quot;Feature&quot;}, {&quot;geometry&quot;: {&quot;coordinates&quot;: [[[12.5030544483439, 55.7668675307089], [12.5031142596906, 55.7668453505748], [12.5026055040482, 55.7664146807445], [12.5038795454815, 55.7659327820167], [12.5037970383008, 55.7658634567649], [12.5039462889261, 55.765807010765], [12.5041412259179, 55.7659707293737], [12.5043240290827, 55.765901636357], [12.5043582764022, 55.7658921079401], [12.5043954887849, 55.7658873592619], [12.5044332555043, 55.7658854090779], [12.5044708832527, 55.7658900805677], [12.5045050465062, 55.7658979080374], [12.5046233884622, 55.765935054482], [12.5046276717119, 55.7659307152163], [12.5047633326655, 55.7660465100331], [12.5047376053295, 55.7660562539114], [12.5048016026529, 55.7661100032474], [12.5047894054944, 55.7661148381813], [12.5050145052306, 55.7663037516905], [12.5049638596347, 55.7663228388038], [12.5053257942525, 55.7666265236873], [12.5034521590794, 55.7673395723169], [12.5034159949718, 55.767309116179], [12.5035285156359, 55.7672666486039], [12.5031808461337, 55.76697396169], [12.5030544483439, 55.7668675307089]]], &quot;type&quot;: &quot;Polygon&quot;}, &quot;properties&quot;: {&quot;ejerlavsnavn&quot;: &quot;Kgs. Lyngby By, Christians&quot;, &quot;hej&quot;: 1, &quot;matrikelnummer&quot;: &quot;4c&quot;}, &quot;type&quot;: &quot;Feature&quot;}], &quot;forGrid&quot;: [{&quot;dataIndex&quot;: &quot;ejerlavsnavn&quot;, &quot;header&quot;: &quot;ejerlavsnavn&quot;, &quot;type&quot;: &quot;character varying&quot;, &quot;typeObj&quot;: null}, {&quot;dataIndex&quot;: &quot;matrikelnummer&quot;, &quot;header&quot;: &quot;matrikelnummer&quot;, &quot;type&quot;: &quot;character varying&quot;, &quot;typeObj&quot;: null}, {&quot;dataIndex&quot;: &quot;hej&quot;, &quot;header&quot;: &quot;hej&quot;, &quot;type&quot;: &quot;integer&quot;, &quot;typeObj&quot;: null}, {&quot;dataIndex&quot;: &quot;the_geom&quot;, &quot;header&quot;: &quot;the_geom&quot;, &quot;type&quot;: &quot;geometry&quot;, &quot;typeObj&quot;: null}], &quot;forStore&quot;: [{&quot;name&quot;: &quot;ejerlavsnavn&quot;, &quot;type&quot;: &quot;character varying&quot;}, {&quot;name&quot;: &quot;matrikelnummer&quot;, &quot;type&quot;: &quot;character varying&quot;}, {&quot;name&quot;: &quot;hej&quot;, &quot;type&quot;: &quot;integer&quot;}, {&quot;name&quot;: &quot;the_geom&quot;, &quot;type&quot;: &quot;geometry&quot;}], &quot;peak_memory_usage&quot;: &quot;2091 KB&quot;, &quot;success&quot;: true, &quot;type&quot;: &quot;FeatureCollection&quot;});\n",
       "\n",
       "        \n",
       "    \n",
       "            var layer_control_ee5a1cfed883d7a6f7027a3f93a8e7ed = {\n",
       "                base_layers : {\n",
       "                    &quot;cartodbpositron&quot; : tile_layer_203effdae544ea6bf30b222032c5c4ef,\n",
       "                },\n",
       "                overlays :  {\n",
       "                    &quot;Jordstykker&quot; : geo_json_858f63b9cb7aa5a51cab7440ecb74742,\n",
       "                },\n",
       "            };\n",
       "            L.control.layers(\n",
       "                layer_control_ee5a1cfed883d7a6f7027a3f93a8e7ed.base_layers,\n",
       "                layer_control_ee5a1cfed883d7a6f7027a3f93a8e7ed.overlays,\n",
       "                {&quot;autoZIndex&quot;: true, &quot;collapsed&quot;: true, &quot;position&quot;: &quot;topright&quot;}\n",
       "            ).addTo(map_56e84c1cf6e64ccd7c2b2dd35a9de244);\n",
       "        \n",
       "&lt;/script&gt;\" style=\"position:absolute;width:100%;height:100%;left:0;top:0;border:none !important;\" allowfullscreen webkitallowfullscreen mozallowfullscreen></iframe></div></div>"
      ],
      "text/plain": [
       "<folium.folium.Map at 0x252fb64e6e0>"
      ]
     },
     "execution_count": 13,
     "metadata": {},
     "output_type": "execute_result"
    }
   ],
   "source": [
    "m = folium.Map(\n",
    "    location=[56.1759, 10.6016],\n",
    "    tiles=\"cartodbpositron\",\n",
    "    zoom_start=7,\n",
    ")\n",
    "folium.GeoJson(sql.geojson, name=\"Jordstykker\").add_to(m)\n",
    "folium.LayerControl().add_to(m)\n",
    "m"
   ]
  }
 ],
 "metadata": {
  "kernelspec": {
   "display_name": "Python 3.10.7 64-bit",
   "language": "python",
   "name": "python3"
  },
  "language_info": {
   "codemirror_mode": {
    "name": "ipython",
    "version": 3
   },
   "file_extension": ".py",
   "mimetype": "text/x-python",
   "name": "python",
   "nbconvert_exporter": "python",
   "pygments_lexer": "ipython3",
   "version": "3.10.7"
  },
  "vscode": {
   "interpreter": {
    "hash": "a7dbb88c84ecda04e2dfa8176cb6708abf8c95c32934f510df16d1a1f4945387"
   }
  }
 },
 "nbformat": 4,
 "nbformat_minor": 0
}
